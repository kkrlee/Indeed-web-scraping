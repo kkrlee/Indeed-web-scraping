{
 "cells": [
  {
   "cell_type": "markdown",
   "metadata": {},
   "source": [
    "# Data Analysis and visualization Python jobs on Indeed"
   ]
  },
  {
   "cell_type": "code",
   "execution_count": 1,
   "metadata": {},
   "outputs": [],
   "source": [
    "%matplotlib inline"
   ]
  },
  {
   "cell_type": "code",
   "execution_count": 2,
   "metadata": {},
   "outputs": [],
   "source": [
    "import re\n",
    "import pandas as pd\n",
    "import numpy as np\n",
    "import seaborn as sns\n",
    "import matplotlib.pyplot as plt\n",
    "plt.style.use('ggplot')"
   ]
  },
  {
   "cell_type": "code",
   "execution_count": 3,
   "metadata": {},
   "outputs": [],
   "source": [
    "df = pd.read_csv(\"jobs_cleaning.csv\")"
   ]
  },
  {
   "cell_type": "code",
   "execution_count": 4,
   "metadata": {},
   "outputs": [
    {
     "name": "stdout",
     "output_type": "stream",
     "text": [
      "<class 'pandas.core.frame.DataFrame'>\n",
      "RangeIndex: 304 entries, 0 to 303\n",
      "Data columns (total 8 columns):\n",
      " #   Column          Non-Null Count  Dtype  \n",
      "---  ------          --------------  -----  \n",
      " 0   Unnamed: 0      304 non-null    int64  \n",
      " 1   title           304 non-null    object \n",
      " 2   company         304 non-null    object \n",
      " 3   location        304 non-null    object \n",
      " 4   minimum salary  304 non-null    object \n",
      " 5   rating          148 non-null    float64\n",
      " 6   urgent hiring   25 non-null     float64\n",
      " 7   link            304 non-null    object \n",
      "dtypes: float64(2), int64(1), object(5)\n",
      "memory usage: 19.1+ KB\n"
     ]
    }
   ],
   "source": [
    "df.info()"
   ]
  },
  {
   "cell_type": "code",
   "execution_count": 23,
   "metadata": {},
   "outputs": [
    {
     "data": {
      "text/html": [
       "<div>\n",
       "<style scoped>\n",
       "    .dataframe tbody tr th:only-of-type {\n",
       "        vertical-align: middle;\n",
       "    }\n",
       "\n",
       "    .dataframe tbody tr th {\n",
       "        vertical-align: top;\n",
       "    }\n",
       "\n",
       "    .dataframe thead th {\n",
       "        text-align: right;\n",
       "    }\n",
       "</style>\n",
       "<table border=\"1\" class=\"dataframe\">\n",
       "  <thead>\n",
       "    <tr style=\"text-align: right;\">\n",
       "      <th></th>\n",
       "      <th>Unnamed: 0</th>\n",
       "      <th>title</th>\n",
       "      <th>company</th>\n",
       "      <th>location</th>\n",
       "      <th>minimum salary</th>\n",
       "      <th>rating</th>\n",
       "      <th>urgent hiring</th>\n",
       "      <th>link</th>\n",
       "    </tr>\n",
       "  </thead>\n",
       "  <tbody>\n",
       "    <tr>\n",
       "      <th>249</th>\n",
       "      <td>265</td>\n",
       "      <td>Editorial Production Associate, The New Yorker</td>\n",
       "      <td>Conde Nast</td>\n",
       "      <td>New York, NY</td>\n",
       "      <td>0.0</td>\n",
       "      <td>4.0</td>\n",
       "      <td>NaN</td>\n",
       "      <td>https://www.indeed.com/viewjob?jk=3ecb7c1d250a...</td>\n",
       "    </tr>\n",
       "    <tr>\n",
       "      <th>210</th>\n",
       "      <td>224</td>\n",
       "      <td>Site Reliability Engineer - Python and Automat...</td>\n",
       "      <td>Saragossa</td>\n",
       "      <td>New York, NY</td>\n",
       "      <td>0.0</td>\n",
       "      <td>NaN</td>\n",
       "      <td>NaN</td>\n",
       "      <td>https://www.indeed.com/viewjob?jk=2278f745eaf9...</td>\n",
       "    </tr>\n",
       "    <tr>\n",
       "      <th>258</th>\n",
       "      <td>275</td>\n",
       "      <td>Bioinformatics Programmer</td>\n",
       "      <td>NYU Langone Health</td>\n",
       "      <td>New York, NY</td>\n",
       "      <td>0.0</td>\n",
       "      <td>4.1</td>\n",
       "      <td>NaN</td>\n",
       "      <td>https://www.indeed.com/viewjob?jk=8434bc915c82...</td>\n",
       "    </tr>\n",
       "    <tr>\n",
       "      <th>147</th>\n",
       "      <td>156</td>\n",
       "      <td>Junior Laboratory Associate</td>\n",
       "      <td>New York University</td>\n",
       "      <td>New York, NY</td>\n",
       "      <td>40000.0</td>\n",
       "      <td>4.2</td>\n",
       "      <td>NaN</td>\n",
       "      <td>https://www.indeed.com/viewjob?jk=f5be0253521b...</td>\n",
       "    </tr>\n",
       "    <tr>\n",
       "      <th>43</th>\n",
       "      <td>45</td>\n",
       "      <td>Junior Laboratory Associate</td>\n",
       "      <td>New York University</td>\n",
       "      <td>New York, NY</td>\n",
       "      <td>40000.0</td>\n",
       "      <td>4.2</td>\n",
       "      <td>NaN</td>\n",
       "      <td>https://www.indeed.com/viewjob?jk=f5be0253521b...</td>\n",
       "    </tr>\n",
       "    <tr>\n",
       "      <th>235</th>\n",
       "      <td>250</td>\n",
       "      <td>Editorial Production Associate, The New Yorker</td>\n",
       "      <td>Conde Nast</td>\n",
       "      <td>New York, NY</td>\n",
       "      <td>0.0</td>\n",
       "      <td>4.0</td>\n",
       "      <td>NaN</td>\n",
       "      <td>https://www.indeed.com/viewjob?jk=3ecb7c1d250a...</td>\n",
       "    </tr>\n",
       "    <tr>\n",
       "      <th>137</th>\n",
       "      <td>146</td>\n",
       "      <td>Entry Level Python Developer / Jr. Python Deve...</td>\n",
       "      <td>KesarWeb</td>\n",
       "      <td>New York, NY</td>\n",
       "      <td>65000.0</td>\n",
       "      <td>NaN</td>\n",
       "      <td>NaN</td>\n",
       "      <td>https://www.indeed.com/viewjob?jk=52e375af8715...</td>\n",
       "    </tr>\n",
       "    <tr>\n",
       "      <th>204</th>\n",
       "      <td>217</td>\n",
       "      <td>Junior Laboratory Associate</td>\n",
       "      <td>New York University</td>\n",
       "      <td>New York, NY</td>\n",
       "      <td>40000.0</td>\n",
       "      <td>4.2</td>\n",
       "      <td>NaN</td>\n",
       "      <td>https://www.indeed.com/viewjob?jk=f5be0253521b...</td>\n",
       "    </tr>\n",
       "    <tr>\n",
       "      <th>39</th>\n",
       "      <td>41</td>\n",
       "      <td>IT Internship</td>\n",
       "      <td>NPower</td>\n",
       "      <td>New York, NY</td>\n",
       "      <td>30000.0</td>\n",
       "      <td>3.5</td>\n",
       "      <td>NaN</td>\n",
       "      <td>https://www.indeed.com/viewjob?jk=fae3bf7adc86...</td>\n",
       "    </tr>\n",
       "    <tr>\n",
       "      <th>232</th>\n",
       "      <td>247</td>\n",
       "      <td>Data Technician (Full- or Part-Time)</td>\n",
       "      <td>Thasos Group</td>\n",
       "      <td>New York, NY</td>\n",
       "      <td>0.0</td>\n",
       "      <td>NaN</td>\n",
       "      <td>NaN</td>\n",
       "      <td>https://www.indeed.com/viewjob?jk=da727c0cddda...</td>\n",
       "    </tr>\n",
       "    <tr>\n",
       "      <th>177</th>\n",
       "      <td>189</td>\n",
       "      <td>Java / Python Tutors</td>\n",
       "      <td>SAM Consulting Services, Inc.</td>\n",
       "      <td>New York, NY</td>\n",
       "      <td>0.0</td>\n",
       "      <td>NaN</td>\n",
       "      <td>NaN</td>\n",
       "      <td>https://www.indeed.com/viewjob?jk=6dd414e5bf26...</td>\n",
       "    </tr>\n",
       "    <tr>\n",
       "      <th>196</th>\n",
       "      <td>209</td>\n",
       "      <td>Entry Level Python Developer / Jr. Python Deve...</td>\n",
       "      <td>KesarWeb</td>\n",
       "      <td>New York, NY</td>\n",
       "      <td>65000.0</td>\n",
       "      <td>NaN</td>\n",
       "      <td>NaN</td>\n",
       "      <td>https://www.indeed.com/viewjob?jk=52e375af8715...</td>\n",
       "    </tr>\n",
       "    <tr>\n",
       "      <th>217</th>\n",
       "      <td>231</td>\n",
       "      <td>Tutor in Python online</td>\n",
       "      <td>MakerState</td>\n",
       "      <td>New York, NY</td>\n",
       "      <td>36000.0</td>\n",
       "      <td>4.0</td>\n",
       "      <td>0.0</td>\n",
       "      <td>https://www.indeed.com/viewjob?jk=469dc5c2056f...</td>\n",
       "    </tr>\n",
       "    <tr>\n",
       "      <th>92</th>\n",
       "      <td>98</td>\n",
       "      <td>Machine Vision Engineer</td>\n",
       "      <td>Intelligent Artifacts, Inc.</td>\n",
       "      <td>New York, NY</td>\n",
       "      <td>80000.0</td>\n",
       "      <td>NaN</td>\n",
       "      <td>NaN</td>\n",
       "      <td>https://www.indeed.com/viewjob?jk=438f8386a490...</td>\n",
       "    </tr>\n",
       "    <tr>\n",
       "      <th>155</th>\n",
       "      <td>165</td>\n",
       "      <td>Data Technician (Full- or Part-Time)</td>\n",
       "      <td>Thasos Group</td>\n",
       "      <td>New York, NY</td>\n",
       "      <td>0.0</td>\n",
       "      <td>NaN</td>\n",
       "      <td>NaN</td>\n",
       "      <td>https://www.indeed.com/viewjob?jk=da727c0cddda...</td>\n",
       "    </tr>\n",
       "    <tr>\n",
       "      <th>271</th>\n",
       "      <td>289</td>\n",
       "      <td>Jr. Big Data Engineer</td>\n",
       "      <td>Enhance IT</td>\n",
       "      <td>New York, NY</td>\n",
       "      <td>0.0</td>\n",
       "      <td>3.4</td>\n",
       "      <td>NaN</td>\n",
       "      <td>https://www.indeed.com/viewjob?jk=986bafd823bc...</td>\n",
       "    </tr>\n",
       "    <tr>\n",
       "      <th>17</th>\n",
       "      <td>18</td>\n",
       "      <td>Python Developer</td>\n",
       "      <td>Systemonex INC</td>\n",
       "      <td>New York, NY</td>\n",
       "      <td>70000.0</td>\n",
       "      <td>NaN</td>\n",
       "      <td>NaN</td>\n",
       "      <td>https://www.indeed.com/viewjob?jk=261a6748688d...</td>\n",
       "    </tr>\n",
       "    <tr>\n",
       "      <th>182</th>\n",
       "      <td>194</td>\n",
       "      <td>Quantitative Investment Analytics, Sr. Analyst</td>\n",
       "      <td>Global Atlantic Financial Group</td>\n",
       "      <td>New York, NY</td>\n",
       "      <td>0.0</td>\n",
       "      <td>3.2</td>\n",
       "      <td>NaN</td>\n",
       "      <td>https://www.indeed.com/viewjob?jk=ae577fac66aa...</td>\n",
       "    </tr>\n",
       "    <tr>\n",
       "      <th>4</th>\n",
       "      <td>4</td>\n",
       "      <td>Bioinformatics Programmer</td>\n",
       "      <td>NYU Langone Health</td>\n",
       "      <td>New York, NY</td>\n",
       "      <td>0.0</td>\n",
       "      <td>4.1</td>\n",
       "      <td>NaN</td>\n",
       "      <td>https://www.indeed.com/viewjob?jk=8434bc915c82...</td>\n",
       "    </tr>\n",
       "    <tr>\n",
       "      <th>78</th>\n",
       "      <td>83</td>\n",
       "      <td>Site Reliability Engineer - Python and Automat...</td>\n",
       "      <td>Saragossa</td>\n",
       "      <td>New York, NY</td>\n",
       "      <td>0.0</td>\n",
       "      <td>NaN</td>\n",
       "      <td>NaN</td>\n",
       "      <td>https://www.indeed.com/viewjob?jk=2278f745eaf9...</td>\n",
       "    </tr>\n",
       "  </tbody>\n",
       "</table>\n",
       "</div>"
      ],
      "text/plain": [
       "     Unnamed: 0                                              title  \\\n",
       "249         265     Editorial Production Associate, The New Yorker   \n",
       "210         224  Site Reliability Engineer - Python and Automat...   \n",
       "258         275                          Bioinformatics Programmer   \n",
       "147         156                        Junior Laboratory Associate   \n",
       "43           45                        Junior Laboratory Associate   \n",
       "235         250     Editorial Production Associate, The New Yorker   \n",
       "137         146  Entry Level Python Developer / Jr. Python Deve...   \n",
       "204         217                        Junior Laboratory Associate   \n",
       "39           41                                      IT Internship   \n",
       "232         247               Data Technician (Full- or Part-Time)   \n",
       "177         189                               Java / Python Tutors   \n",
       "196         209  Entry Level Python Developer / Jr. Python Deve...   \n",
       "217         231                             Tutor in Python online   \n",
       "92           98                            Machine Vision Engineer   \n",
       "155         165               Data Technician (Full- or Part-Time)   \n",
       "271         289                              Jr. Big Data Engineer   \n",
       "17           18                                   Python Developer   \n",
       "182         194     Quantitative Investment Analytics, Sr. Analyst   \n",
       "4             4                          Bioinformatics Programmer   \n",
       "78           83  Site Reliability Engineer - Python and Automat...   \n",
       "\n",
       "                             company      location  minimum salary  rating  \\\n",
       "249                       Conde Nast  New York, NY             0.0     4.0   \n",
       "210                        Saragossa  New York, NY             0.0     NaN   \n",
       "258               NYU Langone Health  New York, NY             0.0     4.1   \n",
       "147              New York University  New York, NY         40000.0     4.2   \n",
       "43               New York University  New York, NY         40000.0     4.2   \n",
       "235                       Conde Nast  New York, NY             0.0     4.0   \n",
       "137                         KesarWeb  New York, NY         65000.0     NaN   \n",
       "204              New York University  New York, NY         40000.0     4.2   \n",
       "39                            NPower  New York, NY         30000.0     3.5   \n",
       "232                     Thasos Group  New York, NY             0.0     NaN   \n",
       "177    SAM Consulting Services, Inc.  New York, NY             0.0     NaN   \n",
       "196                         KesarWeb  New York, NY         65000.0     NaN   \n",
       "217                       MakerState  New York, NY         36000.0     4.0   \n",
       "92       Intelligent Artifacts, Inc.  New York, NY         80000.0     NaN   \n",
       "155                     Thasos Group  New York, NY             0.0     NaN   \n",
       "271                       Enhance IT  New York, NY             0.0     3.4   \n",
       "17                    Systemonex INC  New York, NY         70000.0     NaN   \n",
       "182  Global Atlantic Financial Group  New York, NY             0.0     3.2   \n",
       "4                 NYU Langone Health  New York, NY             0.0     4.1   \n",
       "78                         Saragossa  New York, NY             0.0     NaN   \n",
       "\n",
       "     urgent hiring                                               link  \n",
       "249            NaN  https://www.indeed.com/viewjob?jk=3ecb7c1d250a...  \n",
       "210            NaN  https://www.indeed.com/viewjob?jk=2278f745eaf9...  \n",
       "258            NaN  https://www.indeed.com/viewjob?jk=8434bc915c82...  \n",
       "147            NaN  https://www.indeed.com/viewjob?jk=f5be0253521b...  \n",
       "43             NaN  https://www.indeed.com/viewjob?jk=f5be0253521b...  \n",
       "235            NaN  https://www.indeed.com/viewjob?jk=3ecb7c1d250a...  \n",
       "137            NaN  https://www.indeed.com/viewjob?jk=52e375af8715...  \n",
       "204            NaN  https://www.indeed.com/viewjob?jk=f5be0253521b...  \n",
       "39             NaN  https://www.indeed.com/viewjob?jk=fae3bf7adc86...  \n",
       "232            NaN  https://www.indeed.com/viewjob?jk=da727c0cddda...  \n",
       "177            NaN  https://www.indeed.com/viewjob?jk=6dd414e5bf26...  \n",
       "196            NaN  https://www.indeed.com/viewjob?jk=52e375af8715...  \n",
       "217            0.0  https://www.indeed.com/viewjob?jk=469dc5c2056f...  \n",
       "92             NaN  https://www.indeed.com/viewjob?jk=438f8386a490...  \n",
       "155            NaN  https://www.indeed.com/viewjob?jk=da727c0cddda...  \n",
       "271            NaN  https://www.indeed.com/viewjob?jk=986bafd823bc...  \n",
       "17             NaN  https://www.indeed.com/viewjob?jk=261a6748688d...  \n",
       "182            NaN  https://www.indeed.com/viewjob?jk=ae577fac66aa...  \n",
       "4              NaN  https://www.indeed.com/viewjob?jk=8434bc915c82...  \n",
       "78             NaN  https://www.indeed.com/viewjob?jk=2278f745eaf9...  "
      ]
     },
     "execution_count": 23,
     "metadata": {},
     "output_type": "execute_result"
    }
   ],
   "source": [
    "df.sample(20)"
   ]
  },
  {
   "cell_type": "code",
   "execution_count": 6,
   "metadata": {},
   "outputs": [
    {
     "data": {
      "text/html": [
       "<div>\n",
       "<style scoped>\n",
       "    .dataframe tbody tr th:only-of-type {\n",
       "        vertical-align: middle;\n",
       "    }\n",
       "\n",
       "    .dataframe tbody tr th {\n",
       "        vertical-align: top;\n",
       "    }\n",
       "\n",
       "    .dataframe thead th {\n",
       "        text-align: right;\n",
       "    }\n",
       "</style>\n",
       "<table border=\"1\" class=\"dataframe\">\n",
       "  <thead>\n",
       "    <tr style=\"text-align: right;\">\n",
       "      <th></th>\n",
       "      <th>Unnamed: 0</th>\n",
       "      <th>title</th>\n",
       "      <th>company</th>\n",
       "      <th>location</th>\n",
       "      <th>minimum salary</th>\n",
       "      <th>rating</th>\n",
       "      <th>urgent hiring</th>\n",
       "      <th>link</th>\n",
       "    </tr>\n",
       "  </thead>\n",
       "  <tbody>\n",
       "    <tr>\n",
       "      <th>0</th>\n",
       "      <td>0</td>\n",
       "      <td>Python Developer</td>\n",
       "      <td>Systemonex INC</td>\n",
       "      <td>New York, NY</td>\n",
       "      <td>70000.0</td>\n",
       "      <td>NaN</td>\n",
       "      <td>NaN</td>\n",
       "      <td>https://www.indeed.com/viewjob?jk=261a6748688d...</td>\n",
       "    </tr>\n",
       "    <tr>\n",
       "      <th>1</th>\n",
       "      <td>1</td>\n",
       "      <td>Machine Vision Engineer</td>\n",
       "      <td>Intelligent Artifacts, Inc.</td>\n",
       "      <td>New York, NY</td>\n",
       "      <td>80000.0</td>\n",
       "      <td>NaN</td>\n",
       "      <td>NaN</td>\n",
       "      <td>https://www.indeed.com/viewjob?jk=438f8386a490...</td>\n",
       "    </tr>\n",
       "    <tr>\n",
       "      <th>2</th>\n",
       "      <td>2</td>\n",
       "      <td>Software Engineer Senior Instructor</td>\n",
       "      <td>MIM</td>\n",
       "      <td>New York, NY</td>\n",
       "      <td>87000.0</td>\n",
       "      <td>NaN</td>\n",
       "      <td>NaN</td>\n",
       "      <td>https://www.indeed.com/viewjob?jk=f1433de8cb7a...</td>\n",
       "    </tr>\n",
       "    <tr>\n",
       "      <th>3</th>\n",
       "      <td>3</td>\n",
       "      <td>Quantitative Investment Analytics, Sr. Analyst</td>\n",
       "      <td>Global Atlantic Financial Group</td>\n",
       "      <td>New York, NY</td>\n",
       "      <td>TBD</td>\n",
       "      <td>3.2</td>\n",
       "      <td>NaN</td>\n",
       "      <td>https://www.indeed.com/viewjob?jk=ae577fac66aa...</td>\n",
       "    </tr>\n",
       "    <tr>\n",
       "      <th>4</th>\n",
       "      <td>4</td>\n",
       "      <td>Bioinformatics Programmer</td>\n",
       "      <td>NYU Langone Health</td>\n",
       "      <td>New York, NY</td>\n",
       "      <td>TBD</td>\n",
       "      <td>4.1</td>\n",
       "      <td>NaN</td>\n",
       "      <td>https://www.indeed.com/viewjob?jk=8434bc915c82...</td>\n",
       "    </tr>\n",
       "  </tbody>\n",
       "</table>\n",
       "</div>"
      ],
      "text/plain": [
       "   Unnamed: 0                                           title  \\\n",
       "0           0                                Python Developer   \n",
       "1           1                         Machine Vision Engineer   \n",
       "2           2             Software Engineer Senior Instructor   \n",
       "3           3  Quantitative Investment Analytics, Sr. Analyst   \n",
       "4           4                       Bioinformatics Programmer   \n",
       "\n",
       "                           company      location minimum salary  rating  \\\n",
       "0                   Systemonex INC  New York, NY        70000.0     NaN   \n",
       "1      Intelligent Artifacts, Inc.  New York, NY        80000.0     NaN   \n",
       "2                              MIM  New York, NY        87000.0     NaN   \n",
       "3  Global Atlantic Financial Group  New York, NY            TBD     3.2   \n",
       "4               NYU Langone Health  New York, NY            TBD     4.1   \n",
       "\n",
       "   urgent hiring                                               link  \n",
       "0            NaN  https://www.indeed.com/viewjob?jk=261a6748688d...  \n",
       "1            NaN  https://www.indeed.com/viewjob?jk=438f8386a490...  \n",
       "2            NaN  https://www.indeed.com/viewjob?jk=f1433de8cb7a...  \n",
       "3            NaN  https://www.indeed.com/viewjob?jk=ae577fac66aa...  \n",
       "4            NaN  https://www.indeed.com/viewjob?jk=8434bc915c82...  "
      ]
     },
     "execution_count": 6,
     "metadata": {},
     "output_type": "execute_result"
    }
   ],
   "source": [
    "df.head()"
   ]
  },
  {
   "cell_type": "code",
   "execution_count": 7,
   "metadata": {},
   "outputs": [
    {
     "data": {
      "text/plain": [
       "(304, 8)"
      ]
     },
     "execution_count": 7,
     "metadata": {},
     "output_type": "execute_result"
    }
   ],
   "source": [
    "df.shape"
   ]
  },
  {
   "cell_type": "code",
   "execution_count": 8,
   "metadata": {},
   "outputs": [
    {
     "data": {
      "text/html": [
       "<div>\n",
       "<style scoped>\n",
       "    .dataframe tbody tr th:only-of-type {\n",
       "        vertical-align: middle;\n",
       "    }\n",
       "\n",
       "    .dataframe tbody tr th {\n",
       "        vertical-align: top;\n",
       "    }\n",
       "\n",
       "    .dataframe thead th {\n",
       "        text-align: right;\n",
       "    }\n",
       "</style>\n",
       "<table border=\"1\" class=\"dataframe\">\n",
       "  <thead>\n",
       "    <tr style=\"text-align: right;\">\n",
       "      <th></th>\n",
       "      <th>Unnamed: 0</th>\n",
       "      <th>rating</th>\n",
       "      <th>urgent hiring</th>\n",
       "    </tr>\n",
       "  </thead>\n",
       "  <tbody>\n",
       "    <tr>\n",
       "      <th>count</th>\n",
       "      <td>304.000000</td>\n",
       "      <td>148.000000</td>\n",
       "      <td>25.0</td>\n",
       "    </tr>\n",
       "    <tr>\n",
       "      <th>mean</th>\n",
       "      <td>161.279605</td>\n",
       "      <td>3.875000</td>\n",
       "      <td>0.0</td>\n",
       "    </tr>\n",
       "    <tr>\n",
       "      <th>std</th>\n",
       "      <td>93.790604</td>\n",
       "      <td>0.330507</td>\n",
       "      <td>0.0</td>\n",
       "    </tr>\n",
       "    <tr>\n",
       "      <th>min</th>\n",
       "      <td>0.000000</td>\n",
       "      <td>3.100000</td>\n",
       "      <td>0.0</td>\n",
       "    </tr>\n",
       "    <tr>\n",
       "      <th>25%</th>\n",
       "      <td>80.750000</td>\n",
       "      <td>3.650000</td>\n",
       "      <td>0.0</td>\n",
       "    </tr>\n",
       "    <tr>\n",
       "      <th>50%</th>\n",
       "      <td>161.500000</td>\n",
       "      <td>4.000000</td>\n",
       "      <td>0.0</td>\n",
       "    </tr>\n",
       "    <tr>\n",
       "      <th>75%</th>\n",
       "      <td>242.250000</td>\n",
       "      <td>4.100000</td>\n",
       "      <td>0.0</td>\n",
       "    </tr>\n",
       "    <tr>\n",
       "      <th>max</th>\n",
       "      <td>323.000000</td>\n",
       "      <td>4.300000</td>\n",
       "      <td>0.0</td>\n",
       "    </tr>\n",
       "  </tbody>\n",
       "</table>\n",
       "</div>"
      ],
      "text/plain": [
       "       Unnamed: 0      rating  urgent hiring\n",
       "count  304.000000  148.000000           25.0\n",
       "mean   161.279605    3.875000            0.0\n",
       "std     93.790604    0.330507            0.0\n",
       "min      0.000000    3.100000            0.0\n",
       "25%     80.750000    3.650000            0.0\n",
       "50%    161.500000    4.000000            0.0\n",
       "75%    242.250000    4.100000            0.0\n",
       "max    323.000000    4.300000            0.0"
      ]
     },
     "execution_count": 8,
     "metadata": {},
     "output_type": "execute_result"
    }
   ],
   "source": [
    "df.describe()"
   ]
  },
  {
   "cell_type": "code",
   "execution_count": 9,
   "metadata": {},
   "outputs": [
    {
     "data": {
      "text/plain": [
       "New York University                    20\n",
       "SAM Consulting Services, Inc.          20\n",
       "KesarWeb                               20\n",
       "Conde Nast                             20\n",
       "MakerState                             20\n",
       "NPower                                 20\n",
       "Systemonex INC                         20\n",
       "Thasos Group                           20\n",
       "Intelligent Artifacts, Inc.            20\n",
       "Morgan Stanley                         20\n",
       "Peopleforce INC                        20\n",
       "MIM                                    16\n",
       "NYU Langone Health                     13\n",
       "Saragossa                              13\n",
       "Global Atlantic Financial Group        13\n",
       "Indeed                                  7\n",
       "Urner Barry                             5\n",
       "Pensa Systems                           4\n",
       "GTS                                     3\n",
       "Direct Agents                           3\n",
       "Bloomberg                               3\n",
       "Biz2Credit Inc                          1\n",
       "The LCF Group - Last Chance Funding     1\n",
       "Reddaiah IT Services Inc.               1\n",
       "Enhance IT                              1\n",
       "Name: company, dtype: int64"
      ]
     },
     "execution_count": 9,
     "metadata": {},
     "output_type": "execute_result"
    }
   ],
   "source": [
    "df['company'].value_counts()"
   ]
  },
  {
   "cell_type": "code",
   "execution_count": 10,
   "metadata": {},
   "outputs": [
    {
     "data": {
      "text/plain": [
       "New York, NY          298\n",
       "Toms River, NJ          5\n",
       "West Hempstead, NY      1\n",
       "Name: location, dtype: int64"
      ]
     },
     "execution_count": 10,
     "metadata": {},
     "output_type": "execute_result"
    }
   ],
   "source": [
    "df['location'].value_counts()"
   ]
  },
  {
   "cell_type": "code",
   "execution_count": 11,
   "metadata": {},
   "outputs": [
    {
     "data": {
      "text/plain": [
       "0.0    25\n",
       "Name: urgent hiring, dtype: int64"
      ]
     },
     "execution_count": 11,
     "metadata": {},
     "output_type": "execute_result"
    }
   ],
   "source": [
    "df['urgent hiring'].value_counts()"
   ]
  },
  {
   "cell_type": "code",
   "execution_count": 12,
   "metadata": {},
   "outputs": [
    {
     "data": {
      "text/plain": [
       "Python Developer                                                           27\n",
       "Python Hacker - Machine Learning                                           20\n",
       "Machine Vision Engineer                                                    20\n",
       "Python Developer with Front end development                                20\n",
       "Java / Python Tutors                                                       20\n",
       "Data Technician (Full- or Part-Time)                                       20\n",
       "Tutor in Python online                                                     20\n",
       "Editorial Production Associate, The New Yorker                             20\n",
       "Junior Laboratory Associate                                                20\n",
       "IT Internship                                                              20\n",
       "Entry Level Python Developer / Jr. Python Developer                        20\n",
       "Bioinformatics Programmer                                                  13\n",
       "Quantitative Investment Analytics, Sr. Analyst                             13\n",
       "Data Science Instructor                                                    13\n",
       "Site Reliability Engineer - Python and Automation - No finance required    13\n",
       "Lead Data Strategist                                                        7\n",
       "Junior Data Analyst                                                         5\n",
       "Junior Python Developer                                                     3\n",
       "Software Engineer Senior Instructor                                         3\n",
       "Electronic Trading Solutions - Operations Professional                      2\n",
       "Senior .Net Developer                                                       1\n",
       "BVAL Corporate Bond Evaluator                                               1\n",
       "Manager - Data Science                                                      1\n",
       "Jr. Big Data Engineer                                                       1\n",
       "AWS Developer                                                               1\n",
       "Name: title, dtype: int64"
      ]
     },
     "execution_count": 12,
     "metadata": {},
     "output_type": "execute_result"
    }
   ],
   "source": [
    "df['title'].value_counts()"
   ]
  },
  {
   "cell_type": "code",
   "execution_count": 13,
   "metadata": {},
   "outputs": [
    {
     "data": {
      "text/html": [
       "<div>\n",
       "<style scoped>\n",
       "    .dataframe tbody tr th:only-of-type {\n",
       "        vertical-align: middle;\n",
       "    }\n",
       "\n",
       "    .dataframe tbody tr th {\n",
       "        vertical-align: top;\n",
       "    }\n",
       "\n",
       "    .dataframe thead th {\n",
       "        text-align: right;\n",
       "    }\n",
       "</style>\n",
       "<table border=\"1\" class=\"dataframe\">\n",
       "  <thead>\n",
       "    <tr style=\"text-align: right;\">\n",
       "      <th></th>\n",
       "      <th>Unnamed: 0</th>\n",
       "      <th>title</th>\n",
       "      <th>company</th>\n",
       "      <th>location</th>\n",
       "      <th>minimum salary</th>\n",
       "      <th>rating</th>\n",
       "      <th>urgent hiring</th>\n",
       "      <th>link</th>\n",
       "    </tr>\n",
       "  </thead>\n",
       "  <tbody>\n",
       "    <tr>\n",
       "      <th>1</th>\n",
       "      <td>1</td>\n",
       "      <td>Machine Vision Engineer</td>\n",
       "      <td>Intelligent Artifacts, Inc.</td>\n",
       "      <td>New York, NY</td>\n",
       "      <td>80000.0</td>\n",
       "      <td>NaN</td>\n",
       "      <td>NaN</td>\n",
       "      <td>https://www.indeed.com/viewjob?jk=438f8386a490...</td>\n",
       "    </tr>\n",
       "    <tr>\n",
       "      <th>286</th>\n",
       "      <td>305</td>\n",
       "      <td>Machine Vision Engineer</td>\n",
       "      <td>Intelligent Artifacts, Inc.</td>\n",
       "      <td>New York, NY</td>\n",
       "      <td>80000.0</td>\n",
       "      <td>NaN</td>\n",
       "      <td>NaN</td>\n",
       "      <td>https://www.indeed.com/viewjob?jk=438f8386a490...</td>\n",
       "    </tr>\n",
       "    <tr>\n",
       "      <th>257</th>\n",
       "      <td>274</td>\n",
       "      <td>Machine Vision Engineer</td>\n",
       "      <td>Intelligent Artifacts, Inc.</td>\n",
       "      <td>New York, NY</td>\n",
       "      <td>80000.0</td>\n",
       "      <td>NaN</td>\n",
       "      <td>NaN</td>\n",
       "      <td>https://www.indeed.com/viewjob?jk=438f8386a490...</td>\n",
       "    </tr>\n",
       "    <tr>\n",
       "      <th>244</th>\n",
       "      <td>260</td>\n",
       "      <td>Machine Vision Engineer</td>\n",
       "      <td>Intelligent Artifacts, Inc.</td>\n",
       "      <td>New York, NY</td>\n",
       "      <td>80000.0</td>\n",
       "      <td>NaN</td>\n",
       "      <td>NaN</td>\n",
       "      <td>https://www.indeed.com/viewjob?jk=438f8386a490...</td>\n",
       "    </tr>\n",
       "    <tr>\n",
       "      <th>241</th>\n",
       "      <td>257</td>\n",
       "      <td>Machine Vision Engineer</td>\n",
       "      <td>Intelligent Artifacts, Inc.</td>\n",
       "      <td>New York, NY</td>\n",
       "      <td>80000.0</td>\n",
       "      <td>NaN</td>\n",
       "      <td>NaN</td>\n",
       "      <td>https://www.indeed.com/viewjob?jk=438f8386a490...</td>\n",
       "    </tr>\n",
       "    <tr>\n",
       "      <th>...</th>\n",
       "      <td>...</td>\n",
       "      <td>...</td>\n",
       "      <td>...</td>\n",
       "      <td>...</td>\n",
       "      <td>...</td>\n",
       "      <td>...</td>\n",
       "      <td>...</td>\n",
       "      <td>...</td>\n",
       "    </tr>\n",
       "    <tr>\n",
       "      <th>245</th>\n",
       "      <td>261</td>\n",
       "      <td>Lead Data Strategist</td>\n",
       "      <td>Indeed</td>\n",
       "      <td>New York, NY</td>\n",
       "      <td>104000.0</td>\n",
       "      <td>4.3</td>\n",
       "      <td>NaN</td>\n",
       "      <td>https://www.indeed.com/viewjob?jk=e3e355bd6f8e...</td>\n",
       "    </tr>\n",
       "    <tr>\n",
       "      <th>110</th>\n",
       "      <td>117</td>\n",
       "      <td>Lead Data Strategist</td>\n",
       "      <td>Indeed</td>\n",
       "      <td>New York, NY</td>\n",
       "      <td>104000.0</td>\n",
       "      <td>4.3</td>\n",
       "      <td>NaN</td>\n",
       "      <td>https://www.indeed.com/viewjob?jk=e3e355bd6f8e...</td>\n",
       "    </tr>\n",
       "    <tr>\n",
       "      <th>168</th>\n",
       "      <td>179</td>\n",
       "      <td>Lead Data Strategist</td>\n",
       "      <td>Indeed</td>\n",
       "      <td>New York, NY</td>\n",
       "      <td>104000.0</td>\n",
       "      <td>4.3</td>\n",
       "      <td>NaN</td>\n",
       "      <td>https://www.indeed.com/viewjob?jk=e3e355bd6f8e...</td>\n",
       "    </tr>\n",
       "    <tr>\n",
       "      <th>96</th>\n",
       "      <td>102</td>\n",
       "      <td>Lead Data Strategist</td>\n",
       "      <td>Indeed</td>\n",
       "      <td>New York, NY</td>\n",
       "      <td>104000.0</td>\n",
       "      <td>4.3</td>\n",
       "      <td>NaN</td>\n",
       "      <td>https://www.indeed.com/viewjob?jk=e3e355bd6f8e...</td>\n",
       "    </tr>\n",
       "    <tr>\n",
       "      <th>66</th>\n",
       "      <td>70</td>\n",
       "      <td>Lead Data Strategist</td>\n",
       "      <td>Indeed</td>\n",
       "      <td>New York, NY</td>\n",
       "      <td>104000.0</td>\n",
       "      <td>4.3</td>\n",
       "      <td>NaN</td>\n",
       "      <td>https://www.indeed.com/viewjob?jk=e3e355bd6f8e...</td>\n",
       "    </tr>\n",
       "  </tbody>\n",
       "</table>\n",
       "<p>63 rows × 8 columns</p>\n",
       "</div>"
      ],
      "text/plain": [
       "     Unnamed: 0                    title                      company  \\\n",
       "1             1  Machine Vision Engineer  Intelligent Artifacts, Inc.   \n",
       "286         305  Machine Vision Engineer  Intelligent Artifacts, Inc.   \n",
       "257         274  Machine Vision Engineer  Intelligent Artifacts, Inc.   \n",
       "244         260  Machine Vision Engineer  Intelligent Artifacts, Inc.   \n",
       "241         257  Machine Vision Engineer  Intelligent Artifacts, Inc.   \n",
       "..          ...                      ...                          ...   \n",
       "245         261     Lead Data Strategist                       Indeed   \n",
       "110         117     Lead Data Strategist                       Indeed   \n",
       "168         179     Lead Data Strategist                       Indeed   \n",
       "96          102     Lead Data Strategist                       Indeed   \n",
       "66           70     Lead Data Strategist                       Indeed   \n",
       "\n",
       "         location  minimum salary  rating  urgent hiring  \\\n",
       "1    New York, NY         80000.0     NaN            NaN   \n",
       "286  New York, NY         80000.0     NaN            NaN   \n",
       "257  New York, NY         80000.0     NaN            NaN   \n",
       "244  New York, NY         80000.0     NaN            NaN   \n",
       "241  New York, NY         80000.0     NaN            NaN   \n",
       "..            ...             ...     ...            ...   \n",
       "245  New York, NY        104000.0     4.3            NaN   \n",
       "110  New York, NY        104000.0     4.3            NaN   \n",
       "168  New York, NY        104000.0     4.3            NaN   \n",
       "96   New York, NY        104000.0     4.3            NaN   \n",
       "66   New York, NY        104000.0     4.3            NaN   \n",
       "\n",
       "                                                  link  \n",
       "1    https://www.indeed.com/viewjob?jk=438f8386a490...  \n",
       "286  https://www.indeed.com/viewjob?jk=438f8386a490...  \n",
       "257  https://www.indeed.com/viewjob?jk=438f8386a490...  \n",
       "244  https://www.indeed.com/viewjob?jk=438f8386a490...  \n",
       "241  https://www.indeed.com/viewjob?jk=438f8386a490...  \n",
       "..                                                 ...  \n",
       "245  https://www.indeed.com/viewjob?jk=e3e355bd6f8e...  \n",
       "110  https://www.indeed.com/viewjob?jk=e3e355bd6f8e...  \n",
       "168  https://www.indeed.com/viewjob?jk=e3e355bd6f8e...  \n",
       "96   https://www.indeed.com/viewjob?jk=e3e355bd6f8e...  \n",
       "66   https://www.indeed.com/viewjob?jk=e3e355bd6f8e...  \n",
       "\n",
       "[63 rows x 8 columns]"
      ]
     },
     "execution_count": 13,
     "metadata": {},
     "output_type": "execute_result"
    }
   ],
   "source": [
    "df['minimum salary'] = df['minimum salary'].replace(\"TBD\", 0, regex=True)\n",
    "df['minimum salary'] = df['minimum salary'].astype(float)\n",
    "df_sal = df.loc[df['minimum salary'] > 70000]\n",
    "df_sal.sort_values('minimum salary')"
   ]
  },
  {
   "cell_type": "code",
   "execution_count": 14,
   "metadata": {},
   "outputs": [
    {
     "data": {
      "text/plain": [
       "Text(0.5, 1.0, 'Histrogram of minimum salary')"
      ]
     },
     "execution_count": 14,
     "metadata": {},
     "output_type": "execute_result"
    },
    {
     "data": {
      "image/png": "[encoded data removed]",
      "text/plain": [
       "<Figure size 432x288 with 1 Axes>"
      ]
     },
     "metadata": {},
     "output_type": "display_data"
    }
   ],
   "source": [
    "plt.hist(df['minimum salary'], bins=10, color=\"#615eff\")\n",
    "plt.xlabel('minimum salary')\n",
    "plt.ylabel('count')\n",
    "plt.title(\"Histrogram of minimum salary\", fontsize = 20)"
   ]
  },
  {
   "cell_type": "code",
   "execution_count": 15,
   "metadata": {
    "scrolled": true
   },
   "outputs": [
    {
     "data": {
      "text/plain": [
       "Text(0, 0.5, 'minimum salary')"
      ]
     },
     "execution_count": 15,
     "metadata": {},
     "output_type": "execute_result"
    },
    {
     "data": {
      "image/png": "[encoded data removed]",
      "text/plain": [
       "<Figure size 432x288 with 1 Axes>"
      ]
     },
     "metadata": {},
     "output_type": "display_data"
    }
   ],
   "source": [
    "plt.hist(df['minimum salary'], bins=10, color=\"#615eff\")\n",
    "plt.xlabel(\"rating\")\n",
    "plt.ylabel('minimum salary')"
   ]
  },
  {
   "cell_type": "code",
   "execution_count": 16,
   "metadata": {},
   "outputs": [
    {
     "data": {
      "text/plain": [
       "Text(0, 0.5, 'minimum salary')"
      ]
     },
     "execution_count": 16,
     "metadata": {},
     "output_type": "execute_result"
    },
    {
     "data": {
      "image/png": "[encoded data removed]",
      "text/plain": [
       "<Figure size 432x288 with 1 Axes>"
      ]
     },
     "metadata": {},
     "output_type": "display_data"
    }
   ],
   "source": [
    "plt.hist(df['location'], bins=10, color=\"#615eff\")\n",
    "plt.xlabel(\"location\")\n",
    "plt.ylabel('minimum salary')"
   ]
  },
  {
   "cell_type": "code",
   "execution_count": 17,
   "metadata": {},
   "outputs": [
    {
     "data": {
      "text/plain": [
       "Text(0, 0.5, 'count')"
      ]
     },
     "execution_count": 17,
     "metadata": {},
     "output_type": "execute_result"
    },
    {
     "data": {
      "image/png": "[encoded data removed]",
      "text/plain": [
       "<Figure size 432x288 with 1 Axes>"
      ]
     },
     "metadata": {},
     "output_type": "display_data"
    }
   ],
   "source": [
    "df.plot(kind=\"scatter\", x=\"rating\", y=\"minimum salary\")\n",
    "plt.xlabel(\"rating\")\n",
    "plt.ylabel('count')\n"
   ]
  },
  {
   "cell_type": "code",
   "execution_count": 18,
   "metadata": {},
   "outputs": [
    {
     "data": {
      "text/plain": [
       "<matplotlib.axes._subplots.AxesSubplot at 0x2348b00b0c8>"
      ]
     },
     "execution_count": 18,
     "metadata": {},
     "output_type": "execute_result"
    },
    {
     "data": {
      "image/png": "[encoded data removed]",
      "text/plain": [
       "<Figure size 432x288 with 1 Axes>"
      ]
     },
     "metadata": {},
     "output_type": "display_data"
    }
   ],
   "source": [
    "sns.kdeplot(df['minimum salary'], shade=True, label=\"Expected salary\")"
   ]
  },
  {
   "cell_type": "code",
   "execution_count": 19,
   "metadata": {},
   "outputs": [
    {
     "data": {
      "text/plain": [
       "<matplotlib.axes._subplots.AxesSubplot at 0x2348b0a3348>"
      ]
     },
     "execution_count": 19,
     "metadata": {},
     "output_type": "execute_result"
    },
    {
     "data": {
      "image/png": "[encoded data removed]",
      "text/plain": [
       "<Figure size 432x288 with 1 Axes>"
      ]
     },
     "metadata": {},
     "output_type": "display_data"
    }
   ],
   "source": [
    "sns.distplot(df['minimum salary'])"
   ]
  },
  {
   "cell_type": "code",
   "execution_count": 20,
   "metadata": {},
   "outputs": [
    {
     "data": {
      "text/html": [
       "<div>\n",
       "<style scoped>\n",
       "    .dataframe tbody tr th:only-of-type {\n",
       "        vertical-align: middle;\n",
       "    }\n",
       "\n",
       "    .dataframe tbody tr th {\n",
       "        vertical-align: top;\n",
       "    }\n",
       "\n",
       "    .dataframe thead th {\n",
       "        text-align: right;\n",
       "    }\n",
       "</style>\n",
       "<table border=\"1\" class=\"dataframe\">\n",
       "  <thead>\n",
       "    <tr style=\"text-align: right;\">\n",
       "      <th></th>\n",
       "      <th>total_bill</th>\n",
       "      <th>tip</th>\n",
       "      <th>sex</th>\n",
       "      <th>smoker</th>\n",
       "      <th>day</th>\n",
       "      <th>time</th>\n",
       "      <th>size</th>\n",
       "    </tr>\n",
       "  </thead>\n",
       "  <tbody>\n",
       "    <tr>\n",
       "      <th>0</th>\n",
       "      <td>16.99</td>\n",
       "      <td>1.01</td>\n",
       "      <td>Female</td>\n",
       "      <td>No</td>\n",
       "      <td>Sun</td>\n",
       "      <td>Dinner</td>\n",
       "      <td>2</td>\n",
       "    </tr>\n",
       "    <tr>\n",
       "      <th>1</th>\n",
       "      <td>10.34</td>\n",
       "      <td>1.66</td>\n",
       "      <td>Male</td>\n",
       "      <td>No</td>\n",
       "      <td>Sun</td>\n",
       "      <td>Dinner</td>\n",
       "      <td>3</td>\n",
       "    </tr>\n",
       "    <tr>\n",
       "      <th>2</th>\n",
       "      <td>21.01</td>\n",
       "      <td>3.50</td>\n",
       "      <td>Male</td>\n",
       "      <td>No</td>\n",
       "      <td>Sun</td>\n",
       "      <td>Dinner</td>\n",
       "      <td>3</td>\n",
       "    </tr>\n",
       "    <tr>\n",
       "      <th>3</th>\n",
       "      <td>23.68</td>\n",
       "      <td>3.31</td>\n",
       "      <td>Male</td>\n",
       "      <td>No</td>\n",
       "      <td>Sun</td>\n",
       "      <td>Dinner</td>\n",
       "      <td>2</td>\n",
       "    </tr>\n",
       "    <tr>\n",
       "      <th>4</th>\n",
       "      <td>24.59</td>\n",
       "      <td>3.61</td>\n",
       "      <td>Female</td>\n",
       "      <td>No</td>\n",
       "      <td>Sun</td>\n",
       "      <td>Dinner</td>\n",
       "      <td>4</td>\n",
       "    </tr>\n",
       "  </tbody>\n",
       "</table>\n",
       "</div>"
      ],
      "text/plain": [
       "   total_bill   tip     sex smoker  day    time  size\n",
       "0       16.99  1.01  Female     No  Sun  Dinner     2\n",
       "1       10.34  1.66    Male     No  Sun  Dinner     3\n",
       "2       21.01  3.50    Male     No  Sun  Dinner     3\n",
       "3       23.68  3.31    Male     No  Sun  Dinner     2\n",
       "4       24.59  3.61  Female     No  Sun  Dinner     4"
      ]
     },
     "execution_count": 20,
     "metadata": {},
     "output_type": "execute_result"
    }
   ],
   "source": [
    "tips = sns.load_dataset(\"tips\")\n",
    "tips.head()"
   ]
  },
  {
   "cell_type": "code",
   "execution_count": 21,
   "metadata": {},
   "outputs": [
    {
     "data": {
      "text/plain": [
       "<seaborn.axisgrid.FacetGrid at 0x2348b110748>"
      ]
     },
     "execution_count": 21,
     "metadata": {},
     "output_type": "execute_result"
    },
    {
     "data": {
      "image/png": "[encoded data removed]",
      "text/plain": [
       "<Figure size 360x360 with 1 Axes>"
      ]
     },
     "metadata": {},
     "output_type": "display_data"
    }
   ],
   "source": [
    "sns.lmplot(\"total_bill\", \"tip\", tips)"
   ]
  }
 ],
 "metadata": {
  "kernelspec": {
   "display_name": "Python 3",
   "language": "python",
   "name": "python3"
  },
  "language_info": {
   "codemirror_mode": {
    "name": "ipython",
    "version": 3
   },
   "file_extension": ".py",
   "mimetype": "text/x-python",
   "name": "python",
   "nbconvert_exporter": "python",
   "pygments_lexer": "ipython3",
   "version": "3.7.6"
  },
  "latex_envs": {
   "LaTeX_envs_menu_present": true,
   "autoclose": false,
   "autocomplete": true,
   "bibliofile": "biblio.bib",
   "cite_by": "apalike",
   "current_citInitial": 1,
   "eqLabelWithNumbers": true,
   "eqNumInitial": 1,
   "hotkeys": {
    "equation": "Ctrl-E",
    "itemize": "Ctrl-I"
   },
   "labels_anchors": false,
   "latex_user_defs": false,
   "report_style_numbering": false,
   "user_envs_cfg": false
  },
  "toc": {
   "base_numbering": 1,
   "nav_menu": {},
   "number_sections": true,
   "sideBar": true,
   "skip_h1_title": false,
   "title_cell": "Table of Contents",
   "title_sidebar": "Contents",
   "toc_cell": false,
   "toc_position": {},
   "toc_section_display": true,
   "toc_window_display": false
  },
  "varInspector": {
   "cols": {
    "lenName": 16,
    "lenType": 16,
    "lenVar": 40
   },
   "kernels_config": {
    "python": {
     "delete_cmd_postfix": "",
     "delete_cmd_prefix": "del ",
     "library": "var_list.py",
     "varRefreshCmd": "print(var_dic_list())"
    },
    "r": {
     "delete_cmd_postfix": ") ",
     "delete_cmd_prefix": "rm(",
     "library": "var_list.r",
     "varRefreshCmd": "cat(var_dic_list()) "
    }
   },
   "types_to_exclude": [
    "module",
    "function",
    "builtin_function_or_method",
    "instance",
    "_Feature"
   ],
   "window_display": false
  }
 },
 "nbformat": 4,
 "nbformat_minor": 4
}
