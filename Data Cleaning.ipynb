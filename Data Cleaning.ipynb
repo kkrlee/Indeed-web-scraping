{
 "cells": [
  {
   "cell_type": "markdown",
   "metadata": {},
   "source": [
    "# Data Cleaning on Scraped Indeed Python Jobs"
   ]
  },
  {
   "cell_type": "markdown",
   "metadata": {},
   "source": [
    "### Import library"
   ]
  },
  {
   "cell_type": "code",
   "execution_count": 1,
   "metadata": {},
   "outputs": [],
   "source": [
    "import pandas as pd\n",
    "import numpy as np\n",
    "import re"
   ]
  },
  {
   "cell_type": "markdown",
   "metadata": {},
   "source": [
    "### Importing files"
   ]
  },
  {
   "cell_type": "code",
   "execution_count": 2,
   "metadata": {},
   "outputs": [],
   "source": [
    "jobs = pd.read_csv('jobs.csv')"
   ]
  },
  {
   "cell_type": "markdown",
   "metadata": {},
   "source": [
    "### Cleaning"
   ]
  },
  {
   "cell_type": "code",
   "execution_count": 3,
   "metadata": {},
   "outputs": [
    {
     "data": {
      "text/html": [
       "<div>\n",
       "<style scoped>\n",
       "    .dataframe tbody tr th:only-of-type {\n",
       "        vertical-align: middle;\n",
       "    }\n",
       "\n",
       "    .dataframe tbody tr th {\n",
       "        vertical-align: top;\n",
       "    }\n",
       "\n",
       "    .dataframe thead th {\n",
       "        text-align: right;\n",
       "    }\n",
       "</style>\n",
       "<table border=\"1\" class=\"dataframe\">\n",
       "  <thead>\n",
       "    <tr style=\"text-align: right;\">\n",
       "      <th></th>\n",
       "      <th>title</th>\n",
       "      <th>company</th>\n",
       "      <th>location</th>\n",
       "      <th>minimum salary</th>\n",
       "      <th>rating</th>\n",
       "      <th>urgent hiring</th>\n",
       "      <th>link</th>\n",
       "    </tr>\n",
       "  </thead>\n",
       "  <tbody>\n",
       "    <tr>\n",
       "      <th>0</th>\n",
       "      <td>Python Developer</td>\n",
       "      <td>Systemonex INC</td>\n",
       "      <td>New York, NY</td>\n",
       "      <td>70000</td>\n",
       "      <td></td>\n",
       "      <td></td>\n",
       "      <td>https://www.indeed.com/viewjob?jk=261a6748688d...</td>\n",
       "    </tr>\n",
       "    <tr>\n",
       "      <th>1</th>\n",
       "      <td>Machine Vision Engineer</td>\n",
       "      <td>Intelligent Artifacts, Inc.</td>\n",
       "      <td>New York, NY</td>\n",
       "      <td>80000</td>\n",
       "      <td></td>\n",
       "      <td></td>\n",
       "      <td>https://www.indeed.com/viewjob?jk=438f8386a490...</td>\n",
       "    </tr>\n",
       "    <tr>\n",
       "      <th>2</th>\n",
       "      <td>Software Engineer Senior Instructor</td>\n",
       "      <td>MIM</td>\n",
       "      <td>New York, NY</td>\n",
       "      <td>87000</td>\n",
       "      <td></td>\n",
       "      <td></td>\n",
       "      <td>https://www.indeed.com/viewjob?jk=f1433de8cb7a...</td>\n",
       "    </tr>\n",
       "    <tr>\n",
       "      <th>3</th>\n",
       "      <td>Quantitative Investment Analytics, Sr. Analyst</td>\n",
       "      <td>Global Atlantic Financial Group</td>\n",
       "      <td>New York, NY</td>\n",
       "      <td>TBD</td>\n",
       "      <td>3.2</td>\n",
       "      <td></td>\n",
       "      <td>https://www.indeed.com/viewjob?jk=ae577fac66aa...</td>\n",
       "    </tr>\n",
       "    <tr>\n",
       "      <th>4</th>\n",
       "      <td>Bioinformatics Programmer</td>\n",
       "      <td>NYU Langone Health</td>\n",
       "      <td>New York, NY</td>\n",
       "      <td>TBD</td>\n",
       "      <td>4.1</td>\n",
       "      <td></td>\n",
       "      <td>https://www.indeed.com/viewjob?jk=8434bc915c82...</td>\n",
       "    </tr>\n",
       "    <tr>\n",
       "      <th>...</th>\n",
       "      <td>...</td>\n",
       "      <td>...</td>\n",
       "      <td>...</td>\n",
       "      <td>...</td>\n",
       "      <td>...</td>\n",
       "      <td>...</td>\n",
       "      <td>...</td>\n",
       "    </tr>\n",
       "    <tr>\n",
       "      <th>318</th>\n",
       "      <td>Junior Laboratory Associate</td>\n",
       "      <td>New York University</td>\n",
       "      <td>New York, NY</td>\n",
       "      <td>40000</td>\n",
       "      <td>4.2</td>\n",
       "      <td></td>\n",
       "      <td>https://www.indeed.com/viewjob?jk=f5be0253521b...</td>\n",
       "    </tr>\n",
       "    <tr>\n",
       "      <th>320</th>\n",
       "      <td>Java / Python Tutors</td>\n",
       "      <td>SAM Consulting Services, Inc.</td>\n",
       "      <td>New York, NY</td>\n",
       "      <td>TBD</td>\n",
       "      <td></td>\n",
       "      <td></td>\n",
       "      <td>https://www.indeed.com/viewjob?jk=6dd414e5bf26...</td>\n",
       "    </tr>\n",
       "    <tr>\n",
       "      <th>321</th>\n",
       "      <td>Python Developer with Front end development</td>\n",
       "      <td>Peopleforce INC</td>\n",
       "      <td>New York, NY</td>\n",
       "      <td>90000</td>\n",
       "      <td></td>\n",
       "      <td></td>\n",
       "      <td>https://www.indeed.com/viewjob?jk=c43b5994cf78...</td>\n",
       "    </tr>\n",
       "    <tr>\n",
       "      <th>322</th>\n",
       "      <td>Manager - Data Science</td>\n",
       "      <td>Biz2Credit Inc</td>\n",
       "      <td>New York, NY</td>\n",
       "      <td>TBD</td>\n",
       "      <td></td>\n",
       "      <td></td>\n",
       "      <td>https://www.indeed.com/viewjob?jk=b27aaada6fcf...</td>\n",
       "    </tr>\n",
       "    <tr>\n",
       "      <th>323</th>\n",
       "      <td>Machine Vision Engineer</td>\n",
       "      <td>Intelligent Artifacts, Inc.</td>\n",
       "      <td>New York, NY</td>\n",
       "      <td>80000</td>\n",
       "      <td></td>\n",
       "      <td></td>\n",
       "      <td>https://www.indeed.com/viewjob?jk=438f8386a490...</td>\n",
       "    </tr>\n",
       "  </tbody>\n",
       "</table>\n",
       "<p>304 rows × 7 columns</p>\n",
       "</div>"
      ],
      "text/plain": [
       "                                              title  \\\n",
       "0                                  Python Developer   \n",
       "1                           Machine Vision Engineer   \n",
       "2               Software Engineer Senior Instructor   \n",
       "3    Quantitative Investment Analytics, Sr. Analyst   \n",
       "4                         Bioinformatics Programmer   \n",
       "..                                              ...   \n",
       "318                     Junior Laboratory Associate   \n",
       "320                            Java / Python Tutors   \n",
       "321     Python Developer with Front end development   \n",
       "322                          Manager - Data Science   \n",
       "323                         Machine Vision Engineer   \n",
       "\n",
       "                             company      location minimum salary rating  \\\n",
       "0                     Systemonex INC  New York, NY          70000          \n",
       "1        Intelligent Artifacts, Inc.  New York, NY          80000          \n",
       "2                                MIM  New York, NY          87000          \n",
       "3    Global Atlantic Financial Group  New York, NY            TBD    3.2   \n",
       "4                 NYU Langone Health  New York, NY            TBD    4.1   \n",
       "..                               ...           ...            ...    ...   \n",
       "318              New York University  New York, NY          40000    4.2   \n",
       "320    SAM Consulting Services, Inc.  New York, NY            TBD          \n",
       "321                  Peopleforce INC  New York, NY          90000          \n",
       "322                   Biz2Credit Inc  New York, NY            TBD          \n",
       "323      Intelligent Artifacts, Inc.  New York, NY          80000          \n",
       "\n",
       "    urgent hiring                                               link  \n",
       "0                  https://www.indeed.com/viewjob?jk=261a6748688d...  \n",
       "1                  https://www.indeed.com/viewjob?jk=438f8386a490...  \n",
       "2                  https://www.indeed.com/viewjob?jk=f1433de8cb7a...  \n",
       "3                  https://www.indeed.com/viewjob?jk=ae577fac66aa...  \n",
       "4                  https://www.indeed.com/viewjob?jk=8434bc915c82...  \n",
       "..            ...                                                ...  \n",
       "318                https://www.indeed.com/viewjob?jk=f5be0253521b...  \n",
       "320                https://www.indeed.com/viewjob?jk=6dd414e5bf26...  \n",
       "321                https://www.indeed.com/viewjob?jk=c43b5994cf78...  \n",
       "322                https://www.indeed.com/viewjob?jk=b27aaada6fcf...  \n",
       "323                https://www.indeed.com/viewjob?jk=438f8386a490...  \n",
       "\n",
       "[304 rows x 7 columns]"
      ]
     },
     "execution_count": 3,
     "metadata": {},
     "output_type": "execute_result"
    }
   ],
   "source": [
    "# Remove maximum salary and leave only minimum salary \n",
    "jobs = jobs.replace(\"\\r\\n\", \"\", regex=True)\n",
    "jobs['minimum salary'] = jobs['minimum salary'].replace(\",\", \"\", regex=True)\n",
    "jobs['minimum salary'] = jobs['minimum salary'].str.split('-')\n",
    "jobs['minimum salary'] = jobs['minimum salary'].str[0]\n",
    "jobs['minimum salary'] = jobs['minimum salary'].replace(\"$\", \"\", regex=True)\n",
    "jobs['minimum salary'] = jobs['minimum salary'].replace(\"\\D+\", '', regex=True)\n",
    "jobs['minimum salary'] = jobs['minimum salary'].fillna(0)\n",
    "jobs['minimum salary'] = jobs['minimum salary'].astype(float)\n",
    "\n",
    "# Short term jobs is removed\n",
    "idx = jobs[(jobs['minimum salary'] < 3000) & (jobs['minimum salary'] > 100)].index\n",
    "jobs = jobs.drop(idx)\n",
    "\n",
    "# Hourly salaries convert to yearly (* 2000)\n",
    "jobs['minimum salary'] = jobs['minimum salary'].apply(lambda x:x*2000 if x < 100 else x)\n",
    "\n",
    "# Replace TBD if companies don't announce\n",
    "jobs['minimum salary'] = jobs['minimum salary'].replace(0, str(\"TBD\"))\n",
    "\n",
    "jobs['rating'] = jobs['rating'].fillna(\"\")\n",
    "jobs['urgent hiring'] = jobs['urgent hiring'].fillna(\"\")\n",
    "jobs"
   ]
  },
  {
   "cell_type": "markdown",
   "metadata": {},
   "source": [
    "### Creating cleaned file"
   ]
  },
  {
   "cell_type": "code",
   "execution_count": 4,
   "metadata": {},
   "outputs": [],
   "source": [
    "jobs.to_csv('jobs_cleaning.csv')"
   ]
  }
 ],
 "metadata": {
  "kernelspec": {
   "display_name": "Python 3",
   "language": "python",
   "name": "python3"
  },
  "language_info": {
   "codemirror_mode": {
    "name": "ipython",
    "version": 3
   },
   "file_extension": ".py",
   "mimetype": "text/x-python",
   "name": "python",
   "nbconvert_exporter": "python",
   "pygments_lexer": "ipython3",
   "version": "3.7.6"
  },
  "latex_envs": {
   "LaTeX_envs_menu_present": true,
   "autoclose": false,
   "autocomplete": true,
   "bibliofile": "biblio.bib",
   "cite_by": "apalike",
   "current_citInitial": 1,
   "eqLabelWithNumbers": true,
   "eqNumInitial": 1,
   "hotkeys": {
    "equation": "Ctrl-E",
    "itemize": "Ctrl-I"
   },
   "labels_anchors": false,
   "latex_user_defs": false,
   "report_style_numbering": false,
   "user_envs_cfg": false
  },
  "toc": {
   "base_numbering": 1,
   "nav_menu": {},
   "number_sections": true,
   "sideBar": true,
   "skip_h1_title": false,
   "title_cell": "Table of Contents",
   "title_sidebar": "Contents",
   "toc_cell": false,
   "toc_position": {},
   "toc_section_display": true,
   "toc_window_display": false
  },
  "varInspector": {
   "cols": {
    "lenName": 16,
    "lenType": 16,
    "lenVar": 40
   },
   "kernels_config": {
    "python": {
     "delete_cmd_postfix": "",
     "delete_cmd_prefix": "del ",
     "library": "var_list.py",
     "varRefreshCmd": "print(var_dic_list())"
    },
    "r": {
     "delete_cmd_postfix": ") ",
     "delete_cmd_prefix": "rm(",
     "library": "var_list.r",
     "varRefreshCmd": "cat(var_dic_list()) "
    }
   },
   "types_to_exclude": [
    "module",
    "function",
    "builtin_function_or_method",
    "instance",
    "_Feature"
   ],
   "window_display": false
  }
 },
 "nbformat": 4,
 "nbformat_minor": 4
}
