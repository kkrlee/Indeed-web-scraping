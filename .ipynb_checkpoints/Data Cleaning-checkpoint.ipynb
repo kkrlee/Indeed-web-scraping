{
 "cells": [
  {
   "cell_type": "markdown",
   "metadata": {},
   "source": [
    "# Data Cleaning on Scraped Indeed Python Jobs"
   ]
  },
  {
   "cell_type": "markdown",
   "metadata": {},
   "source": [
    "### Import library"
   ]
  },
  {
   "cell_type": "code",
   "execution_count": 1,
   "metadata": {},
   "outputs": [],
   "source": [
    "import pandas as pd\n",
    "import numpy as np\n",
    "import re"
   ]
  },
  {
   "cell_type": "markdown",
   "metadata": {},
   "source": [
    "### Importing files"
   ]
  },
  {
   "cell_type": "code",
   "execution_count": 2,
   "metadata": {},
   "outputs": [],
   "source": [
    "jobs = pd.read_csv('jobs.csv')"
   ]
  },
  {
   "cell_type": "markdown",
   "metadata": {},
   "source": [
    "### Cleaning"
   ]
  },
  {
   "cell_type": "code",
   "execution_count": 3,
   "metadata": {},
   "outputs": [
    {
     "data": {
      "text/html": [
       "<div>\n",
       "<style scoped>\n",
       "    .dataframe tbody tr th:only-of-type {\n",
       "        vertical-align: middle;\n",
       "    }\n",
       "\n",
       "    .dataframe tbody tr th {\n",
       "        vertical-align: top;\n",
       "    }\n",
       "\n",
       "    .dataframe thead th {\n",
       "        text-align: right;\n",
       "    }\n",
       "</style>\n",
       "<table border=\"1\" class=\"dataframe\">\n",
       "  <thead>\n",
       "    <tr style=\"text-align: right;\">\n",
       "      <th></th>\n",
       "      <th>title</th>\n",
       "      <th>company</th>\n",
       "      <th>location</th>\n",
       "      <th>minimum salary</th>\n",
       "      <th>rating</th>\n",
       "      <th>urgent hiring</th>\n",
       "      <th>link</th>\n",
       "    </tr>\n",
       "  </thead>\n",
       "  <tbody>\n",
       "    <tr>\n",
       "      <th>0</th>\n",
       "      <td>Python Developer</td>\n",
       "      <td>Systemonex INC</td>\n",
       "      <td>New York, NY</td>\n",
       "      <td>70000</td>\n",
       "      <td></td>\n",
       "      <td></td>\n",
       "      <td>https://www.indeed.com/viewjob?jk=261a6748688d...</td>\n",
       "    </tr>\n",
       "    <tr>\n",
       "      <th>1</th>\n",
       "      <td>Python Developer</td>\n",
       "      <td>World.com</td>\n",
       "      <td>New York, NY</td>\n",
       "      <td>84365</td>\n",
       "      <td></td>\n",
       "      <td></td>\n",
       "      <td>https://www.indeed.com/viewjob?jk=687f240976eb...</td>\n",
       "    </tr>\n",
       "    <tr>\n",
       "      <th>2</th>\n",
       "      <td>Application Developer</td>\n",
       "      <td>Blue World</td>\n",
       "      <td>New York, NY</td>\n",
       "      <td>70000</td>\n",
       "      <td></td>\n",
       "      <td></td>\n",
       "      <td>https://www.indeed.com/viewjob?jk=6ccacb9b4d09...</td>\n",
       "    </tr>\n",
       "    <tr>\n",
       "      <th>3</th>\n",
       "      <td>Entry-Level Software Developer(Java)</td>\n",
       "      <td>BeaconFire Solution</td>\n",
       "      <td>New York, NY</td>\n",
       "      <td>65000</td>\n",
       "      <td>4.7</td>\n",
       "      <td>0</td>\n",
       "      <td>https://www.indeed.com/viewjob?jk=06376f04b1b2...</td>\n",
       "    </tr>\n",
       "    <tr>\n",
       "      <th>4</th>\n",
       "      <td>Data Technician (Full- or Part-Time)</td>\n",
       "      <td>Thasos Group</td>\n",
       "      <td>New York, NY</td>\n",
       "      <td>TBD</td>\n",
       "      <td></td>\n",
       "      <td></td>\n",
       "      <td>https://www.indeed.com/viewjob?jk=da727c0cddda...</td>\n",
       "    </tr>\n",
       "    <tr>\n",
       "      <th>...</th>\n",
       "      <td>...</td>\n",
       "      <td>...</td>\n",
       "      <td>...</td>\n",
       "      <td>...</td>\n",
       "      <td>...</td>\n",
       "      <td>...</td>\n",
       "      <td>...</td>\n",
       "    </tr>\n",
       "    <tr>\n",
       "      <th>995</th>\n",
       "      <td>Software Development Engineer in Test (SDET)</td>\n",
       "      <td>EnergyHub</td>\n",
       "      <td>New York, NY</td>\n",
       "      <td>TBD</td>\n",
       "      <td></td>\n",
       "      <td></td>\n",
       "      <td>https://www.indeed.com/viewjob?jk=33b210d98179...</td>\n",
       "    </tr>\n",
       "    <tr>\n",
       "      <th>996</th>\n",
       "      <td>Junior Forecasting Analyst</td>\n",
       "      <td>BARK</td>\n",
       "      <td>New York, NY</td>\n",
       "      <td>TBD</td>\n",
       "      <td>3.5</td>\n",
       "      <td></td>\n",
       "      <td>https://www.indeed.com/viewjob?jk=d6edc635cfe6...</td>\n",
       "    </tr>\n",
       "    <tr>\n",
       "      <th>997</th>\n",
       "      <td>Associate QA Engineer</td>\n",
       "      <td>Intercontinental Exchange</td>\n",
       "      <td>New York, NY</td>\n",
       "      <td>TBD</td>\n",
       "      <td>3.4</td>\n",
       "      <td></td>\n",
       "      <td>https://www.indeed.com/viewjob?jk=acc647318ad6...</td>\n",
       "    </tr>\n",
       "    <tr>\n",
       "      <th>998</th>\n",
       "      <td>Data Python Developer</td>\n",
       "      <td>London Stock Exchange Group</td>\n",
       "      <td>New York, NY</td>\n",
       "      <td>TBD</td>\n",
       "      <td>3.8</td>\n",
       "      <td></td>\n",
       "      <td>https://www.indeed.com/viewjob?jk=31661855134f...</td>\n",
       "    </tr>\n",
       "    <tr>\n",
       "      <th>999</th>\n",
       "      <td>Quantitative Developer</td>\n",
       "      <td>Katana Financial</td>\n",
       "      <td>New York, NY</td>\n",
       "      <td>90000</td>\n",
       "      <td></td>\n",
       "      <td></td>\n",
       "      <td>https://www.indeed.com/viewjob?jk=c0aed25dce4b...</td>\n",
       "    </tr>\n",
       "  </tbody>\n",
       "</table>\n",
       "<p>1000 rows × 7 columns</p>\n",
       "</div>"
      ],
      "text/plain": [
       "                                            title  \\\n",
       "0                                Python Developer   \n",
       "1                                Python Developer   \n",
       "2                           Application Developer   \n",
       "3            Entry-Level Software Developer(Java)   \n",
       "4            Data Technician (Full- or Part-Time)   \n",
       "..                                            ...   \n",
       "995  Software Development Engineer in Test (SDET)   \n",
       "996                    Junior Forecasting Analyst   \n",
       "997                         Associate QA Engineer   \n",
       "998                         Data Python Developer   \n",
       "999                        Quantitative Developer   \n",
       "\n",
       "                         company      location minimum salary rating  \\\n",
       "0                 Systemonex INC  New York, NY          70000          \n",
       "1                      World.com  New York, NY          84365          \n",
       "2                     Blue World  New York, NY          70000          \n",
       "3            BeaconFire Solution  New York, NY          65000    4.7   \n",
       "4                   Thasos Group  New York, NY            TBD          \n",
       "..                           ...           ...            ...    ...   \n",
       "995                    EnergyHub  New York, NY            TBD          \n",
       "996                         BARK  New York, NY            TBD    3.5   \n",
       "997    Intercontinental Exchange  New York, NY            TBD    3.4   \n",
       "998  London Stock Exchange Group  New York, NY            TBD    3.8   \n",
       "999             Katana Financial  New York, NY          90000          \n",
       "\n",
       "    urgent hiring                                               link  \n",
       "0                  https://www.indeed.com/viewjob?jk=261a6748688d...  \n",
       "1                  https://www.indeed.com/viewjob?jk=687f240976eb...  \n",
       "2                  https://www.indeed.com/viewjob?jk=6ccacb9b4d09...  \n",
       "3               0  https://www.indeed.com/viewjob?jk=06376f04b1b2...  \n",
       "4                  https://www.indeed.com/viewjob?jk=da727c0cddda...  \n",
       "..            ...                                                ...  \n",
       "995                https://www.indeed.com/viewjob?jk=33b210d98179...  \n",
       "996                https://www.indeed.com/viewjob?jk=d6edc635cfe6...  \n",
       "997                https://www.indeed.com/viewjob?jk=acc647318ad6...  \n",
       "998                https://www.indeed.com/viewjob?jk=31661855134f...  \n",
       "999                https://www.indeed.com/viewjob?jk=c0aed25dce4b...  \n",
       "\n",
       "[1000 rows x 7 columns]"
      ]
     },
     "execution_count": 3,
     "metadata": {},
     "output_type": "execute_result"
    }
   ],
   "source": [
    "# Remove maximum salary and leave only minimum salary \n",
    "jobs = jobs.replace(\"\\r\\n\", \"\", regex=True)\n",
    "jobs['minimum salary'] = jobs['minimum salary'].replace(\",\", \"\", regex=True)\n",
    "jobs['minimum salary'] = jobs['minimum salary'].str.split('-')\n",
    "jobs['minimum salary'] = jobs['minimum salary'].str[0]\n",
    "jobs['minimum salary'] = jobs['minimum salary'].replace(\"$\", \"\", regex=True)\n",
    "jobs['minimum salary'] = jobs['minimum salary'].replace(\"\\D+\", '', regex=True)\n",
    "jobs['minimum salary'] = jobs['minimum salary'].fillna(0)\n",
    "jobs['minimum salary'] = jobs['minimum salary'].astype(float)\n",
    "\n",
    "# Short term jobs is removed\n",
    "idx = jobs[(jobs['minimum salary'] < 3000) & (jobs['minimum salary'] > 100)].index\n",
    "jobs = jobs.drop(idx)\n",
    "\n",
    "# Hourly salaries convert to yearly (* 2000)\n",
    "jobs['minimum salary'] = jobs['minimum salary'].apply(lambda x:x*2000 if x < 100 else x)\n",
    "\n",
    "# Replace TBD if companies don't announce\n",
    "jobs['minimum salary'] = jobs['minimum salary'].replace(0, str(\"TBD\"))\n",
    "\n",
    "jobs['rating'] = jobs['rating'].fillna(\"\")\n",
    "jobs['urgent hiring'] = jobs['urgent hiring'].fillna(\"\")\n",
    "jobs"
   ]
  },
  {
   "cell_type": "markdown",
   "metadata": {},
   "source": [
    "### Creating cleaned file"
   ]
  },
  {
   "cell_type": "code",
   "execution_count": 4,
   "metadata": {},
   "outputs": [],
   "source": [
    "jobs.to_csv('jobs_cleaning.csv')"
   ]
  }
 ],
 "metadata": {
  "kernelspec": {
   "display_name": "Python 3",
   "language": "python",
   "name": "python3"
  },
  "language_info": {
   "codemirror_mode": {
    "name": "ipython",
    "version": 3
   },
   "file_extension": ".py",
   "mimetype": "text/x-python",
   "name": "python",
   "nbconvert_exporter": "python",
   "pygments_lexer": "ipython3",
   "version": "3.8.5"
  },
  "latex_envs": {
   "LaTeX_envs_menu_present": true,
   "autoclose": false,
   "autocomplete": true,
   "bibliofile": "biblio.bib",
   "cite_by": "apalike",
   "current_citInitial": 1,
   "eqLabelWithNumbers": true,
   "eqNumInitial": 1,
   "hotkeys": {
    "equation": "Ctrl-E",
    "itemize": "Ctrl-I"
   },
   "labels_anchors": false,
   "latex_user_defs": false,
   "report_style_numbering": false,
   "user_envs_cfg": false
  },
  "toc": {
   "base_numbering": 1,
   "nav_menu": {},
   "number_sections": true,
   "sideBar": true,
   "skip_h1_title": false,
   "title_cell": "Table of Contents",
   "title_sidebar": "Contents",
   "toc_cell": false,
   "toc_position": {},
   "toc_section_display": true,
   "toc_window_display": false
  },
  "varInspector": {
   "cols": {
    "lenName": 16,
    "lenType": 16,
    "lenVar": 40
   },
   "kernels_config": {
    "python": {
     "delete_cmd_postfix": "",
     "delete_cmd_prefix": "del ",
     "library": "var_list.py",
     "varRefreshCmd": "print(var_dic_list())"
    },
    "r": {
     "delete_cmd_postfix": ") ",
     "delete_cmd_prefix": "rm(",
     "library": "var_list.r",
     "varRefreshCmd": "cat(var_dic_list()) "
    }
   },
   "types_to_exclude": [
    "module",
    "function",
    "builtin_function_or_method",
    "instance",
    "_Feature"
   ],
   "window_display": false
  }
 },
 "nbformat": 4,
 "nbformat_minor": 4
}
