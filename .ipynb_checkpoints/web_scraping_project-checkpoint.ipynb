{
 "cells": [
  {
   "cell_type": "code",
   "execution_count": 1,
   "metadata": {},
   "outputs": [
    {
     "name": "stdout",
     "output_type": "stream",
     "text": [
      "Scrapping Indeed: Page: 0\n",
      "Scrapping Indeed: Page: 1\n",
      "Scrapping Indeed: Page: 2\n",
      "Scrapping Indeed: Page: 3\n",
      "Scrapping Indeed: Page: 4\n",
      "Scrapping Indeed: Page: 5\n",
      "Scrapping Indeed: Page: 6\n",
      "Scrapping Indeed: Page: 7\n",
      "Scrapping Indeed: Page: 8\n",
      "Scrapping Indeed: Page: 9\n",
      "Scrapping Indeed: Page: 10\n",
      "Scrapping Indeed: Page: 11\n",
      "Scrapping Indeed: Page: 12\n",
      "Scrapping Indeed: Page: 13\n",
      "Scrapping Indeed: Page: 14\n",
      "Scrapping Indeed: Page: 15\n",
      "Scrapping Indeed: Page: 16\n",
      "Scrapping Indeed: Page: 17\n",
      "Scrapping Indeed: Page: 18\n",
      "Scrapping Indeed: Page: 19\n"
     ]
    }
   ],
   "source": [
    "import requests\n",
    "from bs4 import BeautifulSoup\n",
    "import csv\n",
    "import re\n",
    "\n",
    "URL = \"https://www.indeed.com/jobs?as_and=python&as_phr=&as_any=&as_not=&as_ttl=&as_cmp=&jt=all&st=&salary=&radius=50&l=new+york&fromage=any&limit=50&sort=&psf=advsrch&from=advancedsearch\"\n",
    "\n",
    "def get_last_page():\n",
    "    result = requests.get(URL)\n",
    "    soup = BeautifulSoup(result.text, \"html.parser\")\n",
    "    pagination = soup.find(\"div\", {\"class\": \"pagination\"})\n",
    "\n",
    "    links = pagination.find_all('a')\n",
    "    pages = []\n",
    "    for link in links[:-1]:\n",
    "        pages.append(int(link.string))\n",
    "\n",
    "    max_page = pages[-1]\n",
    "    return max_page\n",
    "\n",
    "def extract_job(html):\n",
    "    title = html.find(\"a\", {\"class\": \"jobtitle\"})[\"title\"]\n",
    "    \n",
    "    company = html.find(\"span\", {\"class\": \"company\"})\n",
    "    company_anchor = company.find(\"a\")\n",
    "    if company:\n",
    "        if company_anchor is not None:\n",
    "            company = str(company_anchor.string)\n",
    "        else:\n",
    "            company = str(company.string)\n",
    "            company = company.strip()\n",
    "    \n",
    "    location = html.find(\"div\", {\"class\": \"recJobLoc\"})[\"data-rc-loc\"]\n",
    "    \n",
    "    job_id = html[\"data-jk\"]\n",
    "    \n",
    "    min_salary = html.find(\"span\", {\"class\": \"salaryText\"})\n",
    "    if min_salary is not None:\n",
    "        min_salary = str(min_salary.string)\n",
    " \n",
    "    rating = html.find(\"span\", {\"class\": \"ratingsContent\"})\n",
    "    if rating is not None:\n",
    "        rating = rating.get_text(strip=True)\n",
    "    urgent = html.find(\"td\", {\"class\": \"jobCardShelfItem urgentlyHiring\"})\n",
    "    if urgent is not None:\n",
    "        urgent = 0\n",
    "   \n",
    "    return {\n",
    "        'title': title,\n",
    "        'company': company,\n",
    "        'location': location,\n",
    "        'minimum salary': min_salary, \n",
    "        'rating': rating,\n",
    "        \"urgent hiring\": urgent,\n",
    "        'link': f\"https://www.indeed.com/viewjob?jk={job_id}\"\n",
    "    }\n",
    "\n",
    "def extract_jobs(last_page):\n",
    "    jobs = []\n",
    "    for page in range(last_page):\n",
    "        print(f\"Scrapping Indeed: Page: {page}\")\n",
    "        result = requests.get(URL)\n",
    "        soup = BeautifulSoup(result.text, \"html.parser\")\n",
    "        results = soup.find_all(\"div\", {\"class\": \"jobsearch-SerpJobCard\"})\n",
    "        for result in results:\n",
    "            job = extract_job(result)\n",
    "            jobs.append(job)\n",
    "    return jobs\n",
    "\n",
    "def get_indeed_jobs():\n",
    "    last_page = get_last_page()\n",
    "    jobs = extract_jobs(last_page)\n",
    "    return jobs\n",
    "\n",
    "\n",
    "def save_file(jobs):\n",
    "    file = open(\"jobs.csv\", mode=\"w\")\n",
    "    writer = csv.writer(file)\n",
    "    writer.writerow([\"title\", \"company\", \"location\", \"minimum salary\", \"rating\", \"urgent hiring\", \"link\"])\n",
    "    for job in jobs:\n",
    "        writer.writerow(list(job.values()))\n",
    "    return\n",
    "\n",
    "indeed_jobs = get_indeed_jobs()\n",
    "jobs = indeed_jobs \n",
    "save_file(jobs)"
   ]
  }
 ],
 "metadata": {
  "kernelspec": {
   "display_name": "Python 3",
   "language": "python",
   "name": "python3"
  },
  "language_info": {
   "codemirror_mode": {
    "name": "ipython",
    "version": 3
   },
   "file_extension": ".py",
   "mimetype": "text/x-python",
   "name": "python",
   "nbconvert_exporter": "python",
   "pygments_lexer": "ipython3",
   "version": "3.8.5"
  },
  "latex_envs": {
   "LaTeX_envs_menu_present": true,
   "autoclose": false,
   "autocomplete": true,
   "bibliofile": "biblio.bib",
   "cite_by": "apalike",
   "current_citInitial": 1,
   "eqLabelWithNumbers": true,
   "eqNumInitial": 1,
   "hotkeys": {
    "equation": "Ctrl-E",
    "itemize": "Ctrl-I"
   },
   "labels_anchors": false,
   "latex_user_defs": false,
   "report_style_numbering": false,
   "user_envs_cfg": false
  },
  "toc": {
   "base_numbering": 1,
   "nav_menu": {},
   "number_sections": true,
   "sideBar": true,
   "skip_h1_title": false,
   "title_cell": "Table of Contents",
   "title_sidebar": "Contents",
   "toc_cell": false,
   "toc_position": {},
   "toc_section_display": true,
   "toc_window_display": false
  },
  "varInspector": {
   "cols": {
    "lenName": 16,
    "lenType": 16,
    "lenVar": 40
   },
   "kernels_config": {
    "python": {
     "delete_cmd_postfix": "",
     "delete_cmd_prefix": "del ",
     "library": "var_list.py",
     "varRefreshCmd": "print(var_dic_list())"
    },
    "r": {
     "delete_cmd_postfix": ") ",
     "delete_cmd_prefix": "rm(",
     "library": "var_list.r",
     "varRefreshCmd": "cat(var_dic_list()) "
    }
   },
   "types_to_exclude": [
    "module",
    "function",
    "builtin_function_or_method",
    "instance",
    "_Feature"
   ],
   "window_display": false
  }
 },
 "nbformat": 4,
 "nbformat_minor": 4
}
