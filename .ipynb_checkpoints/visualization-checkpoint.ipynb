{
 "cells": [
  {
   "cell_type": "markdown",
   "metadata": {},
   "source": [
    "# Data Analysis and visualization Python jobs on Indeed"
   ]
  },
  {
   "cell_type": "code",
   "execution_count": 1,
   "metadata": {},
   "outputs": [],
   "source": [
    "%matplotlib inline"
   ]
  },
  {
   "cell_type": "code",
   "execution_count": 2,
   "metadata": {},
   "outputs": [],
   "source": [
    "import re\n",
    "import pandas as pd\n",
    "import numpy as np\n",
    "import seaborn as sns\n",
    "import matplotlib.pyplot as plt\n",
    "plt.style.use('ggplot')"
   ]
  },
  {
   "cell_type": "code",
   "execution_count": 3,
   "metadata": {},
   "outputs": [],
   "source": [
    "df = pd.read_csv(\"jobs_cleaning.csv\")"
   ]
  },
  {
   "cell_type": "code",
   "execution_count": 4,
   "metadata": {},
   "outputs": [
    {
     "name": "stdout",
     "output_type": "stream",
     "text": [
      "<class 'pandas.core.frame.DataFrame'>\n",
      "RangeIndex: 1000 entries, 0 to 999\n",
      "Data columns (total 8 columns):\n",
      " #   Column          Non-Null Count  Dtype  \n",
      "---  ------          --------------  -----  \n",
      " 0   Unnamed: 0      1000 non-null   int64  \n",
      " 1   title           1000 non-null   object \n",
      " 2   company         1000 non-null   object \n",
      " 3   location        1000 non-null   object \n",
      " 4   minimum salary  1000 non-null   object \n",
      " 5   rating          535 non-null    float64\n",
      " 6   urgent hiring   75 non-null     float64\n",
      " 7   link            1000 non-null   object \n",
      "dtypes: float64(2), int64(1), object(5)\n",
      "memory usage: 62.6+ KB\n"
     ]
    }
   ],
   "source": [
    "df.info()"
   ]
  },
  {
   "cell_type": "code",
   "execution_count": 5,
   "metadata": {},
   "outputs": [
    {
     "data": {
      "text/html": [
       "<div>\n",
       "<style scoped>\n",
       "    .dataframe tbody tr th:only-of-type {\n",
       "        vertical-align: middle;\n",
       "    }\n",
       "\n",
       "    .dataframe tbody tr th {\n",
       "        vertical-align: top;\n",
       "    }\n",
       "\n",
       "    .dataframe thead th {\n",
       "        text-align: right;\n",
       "    }\n",
       "</style>\n",
       "<table border=\"1\" class=\"dataframe\">\n",
       "  <thead>\n",
       "    <tr style=\"text-align: right;\">\n",
       "      <th></th>\n",
       "      <th>Unnamed: 0</th>\n",
       "      <th>title</th>\n",
       "      <th>company</th>\n",
       "      <th>location</th>\n",
       "      <th>minimum salary</th>\n",
       "      <th>rating</th>\n",
       "      <th>urgent hiring</th>\n",
       "      <th>link</th>\n",
       "    </tr>\n",
       "  </thead>\n",
       "  <tbody>\n",
       "    <tr>\n",
       "      <th>384</th>\n",
       "      <td>384</td>\n",
       "      <td>Analyst Analytics</td>\n",
       "      <td>Essence</td>\n",
       "      <td>New York, NY</td>\n",
       "      <td>TBD</td>\n",
       "      <td>3.8</td>\n",
       "      <td>NaN</td>\n",
       "      <td>https://www.indeed.com/viewjob?jk=dade846aec57...</td>\n",
       "    </tr>\n",
       "    <tr>\n",
       "      <th>919</th>\n",
       "      <td>919</td>\n",
       "      <td>Data Scientist</td>\n",
       "      <td>Altice</td>\n",
       "      <td>Long Island City, NY</td>\n",
       "      <td>TBD</td>\n",
       "      <td>3.4</td>\n",
       "      <td>NaN</td>\n",
       "      <td>https://www.indeed.com/viewjob?jk=58f777d272c8...</td>\n",
       "    </tr>\n",
       "    <tr>\n",
       "      <th>736</th>\n",
       "      <td>736</td>\n",
       "      <td>QA Analyst/Manual Tester</td>\n",
       "      <td>NSD International, Inc.</td>\n",
       "      <td>New York, NY</td>\n",
       "      <td>11000.0</td>\n",
       "      <td>NaN</td>\n",
       "      <td>NaN</td>\n",
       "      <td>https://www.indeed.com/viewjob?jk=2cb80008ba56...</td>\n",
       "    </tr>\n",
       "    <tr>\n",
       "      <th>647</th>\n",
       "      <td>647</td>\n",
       "      <td>Associate QA Engineer</td>\n",
       "      <td>Intercontinental Exchange</td>\n",
       "      <td>New York, NY</td>\n",
       "      <td>TBD</td>\n",
       "      <td>3.4</td>\n",
       "      <td>NaN</td>\n",
       "      <td>https://www.indeed.com/viewjob?jk=acc647318ad6...</td>\n",
       "    </tr>\n",
       "    <tr>\n",
       "      <th>440</th>\n",
       "      <td>440</td>\n",
       "      <td>Software Engineer</td>\n",
       "      <td>AT&amp;T</td>\n",
       "      <td>New York, NY</td>\n",
       "      <td>TBD</td>\n",
       "      <td>3.8</td>\n",
       "      <td>NaN</td>\n",
       "      <td>https://www.indeed.com/viewjob?jk=a195d7dabc2f...</td>\n",
       "    </tr>\n",
       "    <tr>\n",
       "      <th>792</th>\n",
       "      <td>792</td>\n",
       "      <td>Senior Level Python Developer</td>\n",
       "      <td>Naka Technologies</td>\n",
       "      <td>New York, NY</td>\n",
       "      <td>TBD</td>\n",
       "      <td>NaN</td>\n",
       "      <td>NaN</td>\n",
       "      <td>https://www.indeed.com/viewjob?jk=bfa41cad1042...</td>\n",
       "    </tr>\n",
       "    <tr>\n",
       "      <th>500</th>\n",
       "      <td>500</td>\n",
       "      <td>Python Developer</td>\n",
       "      <td>World.com</td>\n",
       "      <td>New York, NY</td>\n",
       "      <td>84365.0</td>\n",
       "      <td>NaN</td>\n",
       "      <td>NaN</td>\n",
       "      <td>https://www.indeed.com/viewjob?jk=687f240976eb...</td>\n",
       "    </tr>\n",
       "    <tr>\n",
       "      <th>13</th>\n",
       "      <td>13</td>\n",
       "      <td>Assistant Inspector General - Policy</td>\n",
       "      <td>New York City Department: OIG NYPD | Location:...</td>\n",
       "      <td>Staten Island, NY</td>\n",
       "      <td>70000.0</td>\n",
       "      <td>NaN</td>\n",
       "      <td>NaN</td>\n",
       "      <td>https://www.indeed.com/viewjob?jk=0ad652a3a479...</td>\n",
       "    </tr>\n",
       "    <tr>\n",
       "      <th>853</th>\n",
       "      <td>853</td>\n",
       "      <td>AWS Java Python developer</td>\n",
       "      <td>L&amp;T Infotech</td>\n",
       "      <td>New York, NY</td>\n",
       "      <td>TBD</td>\n",
       "      <td>3.7</td>\n",
       "      <td>0.0</td>\n",
       "      <td>https://www.indeed.com/viewjob?jk=857c48b55a76...</td>\n",
       "    </tr>\n",
       "    <tr>\n",
       "      <th>631</th>\n",
       "      <td>631</td>\n",
       "      <td>2021 Software Engineer Program - Full Time Opp...</td>\n",
       "      <td>JPMorgan Chase Bank, N.A.</td>\n",
       "      <td>New York, NY</td>\n",
       "      <td>TBD</td>\n",
       "      <td>3.9</td>\n",
       "      <td>NaN</td>\n",
       "      <td>https://www.indeed.com/viewjob?jk=612abab34773...</td>\n",
       "    </tr>\n",
       "    <tr>\n",
       "      <th>808</th>\n",
       "      <td>808</td>\n",
       "      <td>Data Analyst</td>\n",
       "      <td>Stabilis Capital Management</td>\n",
       "      <td>New York, NY</td>\n",
       "      <td>100000.0</td>\n",
       "      <td>NaN</td>\n",
       "      <td>NaN</td>\n",
       "      <td>https://www.indeed.com/viewjob?jk=fe9abe52b99a...</td>\n",
       "    </tr>\n",
       "    <tr>\n",
       "      <th>393</th>\n",
       "      <td>393</td>\n",
       "      <td>Software Development Engineer in Test (SDET)</td>\n",
       "      <td>EnergyHub</td>\n",
       "      <td>New York, NY</td>\n",
       "      <td>TBD</td>\n",
       "      <td>NaN</td>\n",
       "      <td>NaN</td>\n",
       "      <td>https://www.indeed.com/viewjob?jk=33b210d98179...</td>\n",
       "    </tr>\n",
       "    <tr>\n",
       "      <th>968</th>\n",
       "      <td>968</td>\n",
       "      <td>Data Analyst</td>\n",
       "      <td>RMA of NY</td>\n",
       "      <td>New York, NY</td>\n",
       "      <td>TBD</td>\n",
       "      <td>3.3</td>\n",
       "      <td>0.0</td>\n",
       "      <td>https://www.indeed.com/viewjob?jk=c406097c3beb...</td>\n",
       "    </tr>\n",
       "    <tr>\n",
       "      <th>703</th>\n",
       "      <td>703</td>\n",
       "      <td>Data Analyst, MDcentRx</td>\n",
       "      <td>MDcentRx</td>\n",
       "      <td>New York, NY</td>\n",
       "      <td>TBD</td>\n",
       "      <td>NaN</td>\n",
       "      <td>NaN</td>\n",
       "      <td>https://www.indeed.com/viewjob?jk=90237604b7d5...</td>\n",
       "    </tr>\n",
       "    <tr>\n",
       "      <th>762</th>\n",
       "      <td>762</td>\n",
       "      <td>(Remote) Need experienced Python developer - i...</td>\n",
       "      <td>Bitpush Inc.</td>\n",
       "      <td>New York, NY</td>\n",
       "      <td>TBD</td>\n",
       "      <td>NaN</td>\n",
       "      <td>NaN</td>\n",
       "      <td>https://www.indeed.com/viewjob?jk=bd0fd7d255b9...</td>\n",
       "    </tr>\n",
       "    <tr>\n",
       "      <th>328</th>\n",
       "      <td>328</td>\n",
       "      <td>Backend Engineer</td>\n",
       "      <td>Alma</td>\n",
       "      <td>New York, NY</td>\n",
       "      <td>TBD</td>\n",
       "      <td>3.7</td>\n",
       "      <td>NaN</td>\n",
       "      <td>https://www.indeed.com/viewjob?jk=4912f9f4277d...</td>\n",
       "    </tr>\n",
       "    <tr>\n",
       "      <th>713</th>\n",
       "      <td>713</td>\n",
       "      <td>(Remote) Need experienced Python developer - i...</td>\n",
       "      <td>Bitpush Inc.</td>\n",
       "      <td>New York, NY</td>\n",
       "      <td>TBD</td>\n",
       "      <td>NaN</td>\n",
       "      <td>NaN</td>\n",
       "      <td>https://www.indeed.com/viewjob?jk=bd0fd7d255b9...</td>\n",
       "    </tr>\n",
       "    <tr>\n",
       "      <th>208</th>\n",
       "      <td>208</td>\n",
       "      <td>Data Analyst</td>\n",
       "      <td>Stabilis Capital Management</td>\n",
       "      <td>New York, NY</td>\n",
       "      <td>100000.0</td>\n",
       "      <td>NaN</td>\n",
       "      <td>NaN</td>\n",
       "      <td>https://www.indeed.com/viewjob?jk=fe9abe52b99a...</td>\n",
       "    </tr>\n",
       "    <tr>\n",
       "      <th>679</th>\n",
       "      <td>679</td>\n",
       "      <td>Data Strategy Data Scientist</td>\n",
       "      <td>Jefferies &amp; Company, Inc.</td>\n",
       "      <td>New York, NY</td>\n",
       "      <td>TBD</td>\n",
       "      <td>3.7</td>\n",
       "      <td>NaN</td>\n",
       "      <td>https://www.indeed.com/viewjob?jk=dd4117e88941...</td>\n",
       "    </tr>\n",
       "    <tr>\n",
       "      <th>801</th>\n",
       "      <td>801</td>\n",
       "      <td>Application Developer</td>\n",
       "      <td>Blue World</td>\n",
       "      <td>New York, NY</td>\n",
       "      <td>70000.0</td>\n",
       "      <td>NaN</td>\n",
       "      <td>NaN</td>\n",
       "      <td>https://www.indeed.com/viewjob?jk=6ccacb9b4d09...</td>\n",
       "    </tr>\n",
       "  </tbody>\n",
       "</table>\n",
       "</div>"
      ],
      "text/plain": [
       "     Unnamed: 0                                              title  \\\n",
       "384         384                                  Analyst Analytics   \n",
       "919         919                                     Data Scientist   \n",
       "736         736                           QA Analyst/Manual Tester   \n",
       "647         647                              Associate QA Engineer   \n",
       "440         440                                  Software Engineer   \n",
       "792         792                      Senior Level Python Developer   \n",
       "500         500                                   Python Developer   \n",
       "13           13               Assistant Inspector General - Policy   \n",
       "853         853                          AWS Java Python developer   \n",
       "631         631  2021 Software Engineer Program - Full Time Opp...   \n",
       "808         808                                       Data Analyst   \n",
       "393         393       Software Development Engineer in Test (SDET)   \n",
       "968         968                                       Data Analyst   \n",
       "703         703                             Data Analyst, MDcentRx   \n",
       "762         762  (Remote) Need experienced Python developer - i...   \n",
       "328         328                                   Backend Engineer   \n",
       "713         713  (Remote) Need experienced Python developer - i...   \n",
       "208         208                                       Data Analyst   \n",
       "679         679                       Data Strategy Data Scientist   \n",
       "801         801                              Application Developer   \n",
       "\n",
       "                                               company              location  \\\n",
       "384                                            Essence          New York, NY   \n",
       "919                                             Altice  Long Island City, NY   \n",
       "736                            NSD International, Inc.          New York, NY   \n",
       "647                          Intercontinental Exchange          New York, NY   \n",
       "440                                               AT&T          New York, NY   \n",
       "792                                  Naka Technologies          New York, NY   \n",
       "500                                          World.com          New York, NY   \n",
       "13   New York City Department: OIG NYPD | Location:...     Staten Island, NY   \n",
       "853                                       L&T Infotech          New York, NY   \n",
       "631                          JPMorgan Chase Bank, N.A.          New York, NY   \n",
       "808                        Stabilis Capital Management          New York, NY   \n",
       "393                                          EnergyHub          New York, NY   \n",
       "968                                          RMA of NY          New York, NY   \n",
       "703                                           MDcentRx          New York, NY   \n",
       "762                                       Bitpush Inc.          New York, NY   \n",
       "328                                               Alma          New York, NY   \n",
       "713                                       Bitpush Inc.          New York, NY   \n",
       "208                        Stabilis Capital Management          New York, NY   \n",
       "679                          Jefferies & Company, Inc.          New York, NY   \n",
       "801                                         Blue World          New York, NY   \n",
       "\n",
       "    minimum salary  rating  urgent hiring  \\\n",
       "384            TBD     3.8            NaN   \n",
       "919            TBD     3.4            NaN   \n",
       "736        11000.0     NaN            NaN   \n",
       "647            TBD     3.4            NaN   \n",
       "440            TBD     3.8            NaN   \n",
       "792            TBD     NaN            NaN   \n",
       "500        84365.0     NaN            NaN   \n",
       "13         70000.0     NaN            NaN   \n",
       "853            TBD     3.7            0.0   \n",
       "631            TBD     3.9            NaN   \n",
       "808       100000.0     NaN            NaN   \n",
       "393            TBD     NaN            NaN   \n",
       "968            TBD     3.3            0.0   \n",
       "703            TBD     NaN            NaN   \n",
       "762            TBD     NaN            NaN   \n",
       "328            TBD     3.7            NaN   \n",
       "713            TBD     NaN            NaN   \n",
       "208       100000.0     NaN            NaN   \n",
       "679            TBD     3.7            NaN   \n",
       "801        70000.0     NaN            NaN   \n",
       "\n",
       "                                                  link  \n",
       "384  https://www.indeed.com/viewjob?jk=dade846aec57...  \n",
       "919  https://www.indeed.com/viewjob?jk=58f777d272c8...  \n",
       "736  https://www.indeed.com/viewjob?jk=2cb80008ba56...  \n",
       "647  https://www.indeed.com/viewjob?jk=acc647318ad6...  \n",
       "440  https://www.indeed.com/viewjob?jk=a195d7dabc2f...  \n",
       "792  https://www.indeed.com/viewjob?jk=bfa41cad1042...  \n",
       "500  https://www.indeed.com/viewjob?jk=687f240976eb...  \n",
       "13   https://www.indeed.com/viewjob?jk=0ad652a3a479...  \n",
       "853  https://www.indeed.com/viewjob?jk=857c48b55a76...  \n",
       "631  https://www.indeed.com/viewjob?jk=612abab34773...  \n",
       "808  https://www.indeed.com/viewjob?jk=fe9abe52b99a...  \n",
       "393  https://www.indeed.com/viewjob?jk=33b210d98179...  \n",
       "968  https://www.indeed.com/viewjob?jk=c406097c3beb...  \n",
       "703  https://www.indeed.com/viewjob?jk=90237604b7d5...  \n",
       "762  https://www.indeed.com/viewjob?jk=bd0fd7d255b9...  \n",
       "328  https://www.indeed.com/viewjob?jk=4912f9f4277d...  \n",
       "713  https://www.indeed.com/viewjob?jk=bd0fd7d255b9...  \n",
       "208  https://www.indeed.com/viewjob?jk=fe9abe52b99a...  \n",
       "679  https://www.indeed.com/viewjob?jk=dd4117e88941...  \n",
       "801  https://www.indeed.com/viewjob?jk=6ccacb9b4d09...  "
      ]
     },
     "execution_count": 5,
     "metadata": {},
     "output_type": "execute_result"
    }
   ],
   "source": [
    "df.sample(20)"
   ]
  },
  {
   "cell_type": "code",
   "execution_count": 6,
   "metadata": {},
   "outputs": [
    {
     "data": {
      "text/html": [
       "<div>\n",
       "<style scoped>\n",
       "    .dataframe tbody tr th:only-of-type {\n",
       "        vertical-align: middle;\n",
       "    }\n",
       "\n",
       "    .dataframe tbody tr th {\n",
       "        vertical-align: top;\n",
       "    }\n",
       "\n",
       "    .dataframe thead th {\n",
       "        text-align: right;\n",
       "    }\n",
       "</style>\n",
       "<table border=\"1\" class=\"dataframe\">\n",
       "  <thead>\n",
       "    <tr style=\"text-align: right;\">\n",
       "      <th></th>\n",
       "      <th>Unnamed: 0</th>\n",
       "      <th>title</th>\n",
       "      <th>company</th>\n",
       "      <th>location</th>\n",
       "      <th>minimum salary</th>\n",
       "      <th>rating</th>\n",
       "      <th>urgent hiring</th>\n",
       "      <th>link</th>\n",
       "    </tr>\n",
       "  </thead>\n",
       "  <tbody>\n",
       "    <tr>\n",
       "      <th>0</th>\n",
       "      <td>0</td>\n",
       "      <td>Python Developer</td>\n",
       "      <td>Systemonex INC</td>\n",
       "      <td>New York, NY</td>\n",
       "      <td>70000.0</td>\n",
       "      <td>NaN</td>\n",
       "      <td>NaN</td>\n",
       "      <td>https://www.indeed.com/viewjob?jk=261a6748688d...</td>\n",
       "    </tr>\n",
       "    <tr>\n",
       "      <th>1</th>\n",
       "      <td>1</td>\n",
       "      <td>Python Developer</td>\n",
       "      <td>World.com</td>\n",
       "      <td>New York, NY</td>\n",
       "      <td>84365.0</td>\n",
       "      <td>NaN</td>\n",
       "      <td>NaN</td>\n",
       "      <td>https://www.indeed.com/viewjob?jk=687f240976eb...</td>\n",
       "    </tr>\n",
       "    <tr>\n",
       "      <th>2</th>\n",
       "      <td>2</td>\n",
       "      <td>Application Developer</td>\n",
       "      <td>Blue World</td>\n",
       "      <td>New York, NY</td>\n",
       "      <td>70000.0</td>\n",
       "      <td>NaN</td>\n",
       "      <td>NaN</td>\n",
       "      <td>https://www.indeed.com/viewjob?jk=6ccacb9b4d09...</td>\n",
       "    </tr>\n",
       "    <tr>\n",
       "      <th>3</th>\n",
       "      <td>3</td>\n",
       "      <td>Entry-Level Software Developer(Java)</td>\n",
       "      <td>BeaconFire Solution</td>\n",
       "      <td>New York, NY</td>\n",
       "      <td>65000.0</td>\n",
       "      <td>4.7</td>\n",
       "      <td>0.0</td>\n",
       "      <td>https://www.indeed.com/viewjob?jk=06376f04b1b2...</td>\n",
       "    </tr>\n",
       "    <tr>\n",
       "      <th>4</th>\n",
       "      <td>4</td>\n",
       "      <td>Data Technician (Full- or Part-Time)</td>\n",
       "      <td>Thasos Group</td>\n",
       "      <td>New York, NY</td>\n",
       "      <td>TBD</td>\n",
       "      <td>NaN</td>\n",
       "      <td>NaN</td>\n",
       "      <td>https://www.indeed.com/viewjob?jk=da727c0cddda...</td>\n",
       "    </tr>\n",
       "  </tbody>\n",
       "</table>\n",
       "</div>"
      ],
      "text/plain": [
       "   Unnamed: 0                                 title              company  \\\n",
       "0           0                      Python Developer       Systemonex INC   \n",
       "1           1                      Python Developer            World.com   \n",
       "2           2                 Application Developer           Blue World   \n",
       "3           3  Entry-Level Software Developer(Java)  BeaconFire Solution   \n",
       "4           4  Data Technician (Full- or Part-Time)         Thasos Group   \n",
       "\n",
       "       location minimum salary  rating  urgent hiring  \\\n",
       "0  New York, NY        70000.0     NaN            NaN   \n",
       "1  New York, NY        84365.0     NaN            NaN   \n",
       "2  New York, NY        70000.0     NaN            NaN   \n",
       "3  New York, NY        65000.0     4.7            0.0   \n",
       "4  New York, NY            TBD     NaN            NaN   \n",
       "\n",
       "                                                link  \n",
       "0  https://www.indeed.com/viewjob?jk=261a6748688d...  \n",
       "1  https://www.indeed.com/viewjob?jk=687f240976eb...  \n",
       "2  https://www.indeed.com/viewjob?jk=6ccacb9b4d09...  \n",
       "3  https://www.indeed.com/viewjob?jk=06376f04b1b2...  \n",
       "4  https://www.indeed.com/viewjob?jk=da727c0cddda...  "
      ]
     },
     "execution_count": 6,
     "metadata": {},
     "output_type": "execute_result"
    }
   ],
   "source": [
    "df.head()"
   ]
  },
  {
   "cell_type": "code",
   "execution_count": 7,
   "metadata": {},
   "outputs": [
    {
     "data": {
      "text/plain": [
       "(1000, 8)"
      ]
     },
     "execution_count": 7,
     "metadata": {},
     "output_type": "execute_result"
    }
   ],
   "source": [
    "df.shape"
   ]
  },
  {
   "cell_type": "code",
   "execution_count": 8,
   "metadata": {},
   "outputs": [
    {
     "data": {
      "text/html": [
       "<div>\n",
       "<style scoped>\n",
       "    .dataframe tbody tr th:only-of-type {\n",
       "        vertical-align: middle;\n",
       "    }\n",
       "\n",
       "    .dataframe tbody tr th {\n",
       "        vertical-align: top;\n",
       "    }\n",
       "\n",
       "    .dataframe thead th {\n",
       "        text-align: right;\n",
       "    }\n",
       "</style>\n",
       "<table border=\"1\" class=\"dataframe\">\n",
       "  <thead>\n",
       "    <tr style=\"text-align: right;\">\n",
       "      <th></th>\n",
       "      <th>Unnamed: 0</th>\n",
       "      <th>rating</th>\n",
       "      <th>urgent hiring</th>\n",
       "    </tr>\n",
       "  </thead>\n",
       "  <tbody>\n",
       "    <tr>\n",
       "      <th>count</th>\n",
       "      <td>1000.000000</td>\n",
       "      <td>535.000000</td>\n",
       "      <td>75.0</td>\n",
       "    </tr>\n",
       "    <tr>\n",
       "      <th>mean</th>\n",
       "      <td>499.500000</td>\n",
       "      <td>3.864299</td>\n",
       "      <td>0.0</td>\n",
       "    </tr>\n",
       "    <tr>\n",
       "      <th>std</th>\n",
       "      <td>288.819436</td>\n",
       "      <td>0.470811</td>\n",
       "      <td>0.0</td>\n",
       "    </tr>\n",
       "    <tr>\n",
       "      <th>min</th>\n",
       "      <td>0.000000</td>\n",
       "      <td>2.700000</td>\n",
       "      <td>0.0</td>\n",
       "    </tr>\n",
       "    <tr>\n",
       "      <th>25%</th>\n",
       "      <td>249.750000</td>\n",
       "      <td>3.600000</td>\n",
       "      <td>0.0</td>\n",
       "    </tr>\n",
       "    <tr>\n",
       "      <th>50%</th>\n",
       "      <td>499.500000</td>\n",
       "      <td>3.800000</td>\n",
       "      <td>0.0</td>\n",
       "    </tr>\n",
       "    <tr>\n",
       "      <th>75%</th>\n",
       "      <td>749.250000</td>\n",
       "      <td>4.100000</td>\n",
       "      <td>0.0</td>\n",
       "    </tr>\n",
       "    <tr>\n",
       "      <th>max</th>\n",
       "      <td>999.000000</td>\n",
       "      <td>5.000000</td>\n",
       "      <td>0.0</td>\n",
       "    </tr>\n",
       "  </tbody>\n",
       "</table>\n",
       "</div>"
      ],
      "text/plain": [
       "        Unnamed: 0      rating  urgent hiring\n",
       "count  1000.000000  535.000000           75.0\n",
       "mean    499.500000    3.864299            0.0\n",
       "std     288.819436    0.470811            0.0\n",
       "min       0.000000    2.700000            0.0\n",
       "25%     249.750000    3.600000            0.0\n",
       "50%     499.500000    3.800000            0.0\n",
       "75%     749.250000    4.100000            0.0\n",
       "max     999.000000    5.000000            0.0"
      ]
     },
     "execution_count": 8,
     "metadata": {},
     "output_type": "execute_result"
    }
   ],
   "source": [
    "df.describe()"
   ]
  },
  {
   "cell_type": "code",
   "execution_count": 9,
   "metadata": {},
   "outputs": [
    {
     "data": {
      "text/plain": [
       "World.com                                                40\n",
       "FanDuel                                                  40\n",
       "Thasos Group                                             20\n",
       "pulseData                                                20\n",
       "1DocWay                                                  20\n",
       "Signet Jewelers                                          20\n",
       "RMA of NY                                                20\n",
       "NSD International, Inc.                                  20\n",
       "Stabilis Capital Management                              20\n",
       "New York City Department: OIG NYPD | Location: STA...    20\n",
       "Blue World                                               20\n",
       "New York Public Library                                  20\n",
       "SMB Capital                                              20\n",
       "Altice                                                   20\n",
       "Decode_M                                                 20\n",
       "Columbia University                                      20\n",
       "JPMorgan Chase Bank, N.A.                                20\n",
       "AT&T                                                     20\n",
       "Accenture                                                20\n",
       "Cquest                                                   20\n",
       "Systemonex INC                                           20\n",
       "SAM Consulting Services, Inc.                            20\n",
       "Essence                                                  20\n",
       "Rapid Ratings                                            20\n",
       "Jefferies & Company, Inc.                                20\n",
       "L&T Infotech                                             20\n",
       "TapRecruit                                               20\n",
       "Torch Technology                                         20\n",
       "FireEye, Inc.                                            20\n",
       "Verizon                                                  20\n",
       "DV Trading, LLC                                          20\n",
       "Oscar Health                                             20\n",
       "Modeling Ventures                                        20\n",
       "OK Cupid                                                 20\n",
       "Alma                                                     20\n",
       "Bitpush Inc.                                             19\n",
       "BeaconFire Solution                                      19\n",
       "Teachable                                                19\n",
       "Naka Technologies                                        19\n",
       "Rosenblatt Securities                                    18\n",
       "EnergyHub                                                18\n",
       "London Stock Exchange Group                              17\n",
       "BARK                                                     17\n",
       "Katana Financial                                         17\n",
       "Intercontinental Exchange                                17\n",
       "DATA INC                                                 12\n",
       "Harnham                                                  12\n",
       "Health Connective                                        12\n",
       "Cornershop                                               12\n",
       "RiCOMA International Corporation                          8\n",
       "Tia                                                       7\n",
       "Jarvis Cole, Inc.                                         3\n",
       "Quintrix Solutions                                        3\n",
       "MDcentRx                                                  3\n",
       "Insight Global                                            3\n",
       "The Goodkind Group                                        2\n",
       "Artisan Talent                                            2\n",
       "Pernod Ricard                                             1\n",
       "Name: company, dtype: int64"
      ]
     },
     "execution_count": 9,
     "metadata": {},
     "output_type": "execute_result"
    }
   ],
   "source": [
    "df['company'].value_counts()"
   ]
  },
  {
   "cell_type": "code",
   "execution_count": 10,
   "metadata": {},
   "outputs": [
    {
     "data": {
      "text/plain": [
       "New York, NY            861\n",
       "Manhattan, NY            40\n",
       "Long Island City, NY     40\n",
       "New York State           27\n",
       "Staten Island, NY        20\n",
       "United States            12\n",
       "Name: location, dtype: int64"
      ]
     },
     "execution_count": 10,
     "metadata": {},
     "output_type": "execute_result"
    }
   ],
   "source": [
    "df['location'].value_counts()"
   ]
  },
  {
   "cell_type": "code",
   "execution_count": 11,
   "metadata": {},
   "outputs": [
    {
     "data": {
      "text/plain": [
       "0.0    75\n",
       "Name: urgent hiring, dtype: int64"
      ]
     },
     "execution_count": 11,
     "metadata": {},
     "output_type": "execute_result"
    }
   ],
   "source": [
    "df['urgent hiring'].value_counts()"
   ]
  },
  {
   "cell_type": "code",
   "execution_count": 12,
   "metadata": {},
   "outputs": [
    {
     "data": {
      "text/plain": [
       "Data Analyst                                                        72\n",
       "Software Engineer                                                   60\n",
       "Python Developer                                                    42\n",
       "Python Software Engineer                                            40\n",
       "Data Scientist                                                      21\n",
       "Assistant Inspector General - Policy                                20\n",
       "Marketting Analyst, VIP                                             20\n",
       "Data Scientist - Analytics                                          20\n",
       "Healthcare Data Scientist                                           20\n",
       "Junior Data Scientist                                               20\n",
       "Backend Engineer                                                    20\n",
       "Python - UNIX Developer                                             20\n",
       "Quality Assurance Engineer ( Python )                               20\n",
       "Pega Adaptive Modeler                                               20\n",
       "Students - Equity Trading Desk Internship Summer 2019               20\n",
       "Application Developer                                               20\n",
       "Data Scientist, Business Analytics                                  20\n",
       "Junior Natural Gas Trader - Energy Desk (NY)                        20\n",
       "Analyst Analytics                                                   20\n",
       "QA Selenium Tester                                                  20\n",
       "AWS Java Python developer                                           20\n",
       "QA Analyst/Manual Tester                                            20\n",
       "Staff Associate I                                                   20\n",
       "Data Strategy Data Scientist                                        20\n",
       "Digital Archives Assistant                                          20\n",
       "Analytics Intern                                                    20\n",
       "Java / Python Tutors                                                20\n",
       "Revenue and Strategy Internship (Summer 2021)                       20\n",
       "Data Technician (Full- or Part-Time)                                20\n",
       "Software Engineers & Web Developers                                 20\n",
       "2021 Software Engineer Program - Full Time Opportunity              20\n",
       "Entry-Level Software Developer(Java)                                19\n",
       "Software Engineer (New Graduate Summer 2021)                        19\n",
       "Senior Level Python Developer                                       19\n",
       "(Remote) Need experienced Python developer - intern or part-time    19\n",
       "Software Development Engineer in Test (SDET)                        18\n",
       "2021 Internships                                                    18\n",
       "Quantitative Developer                                              17\n",
       "Associate QA Engineer                                               17\n",
       "Data Python Developer                                               17\n",
       "Junior Forecasting Analyst                                          17\n",
       "Data Engineer - 6 Month Contract - Remote                           12\n",
       "Python/Django Web Application Developer                             12\n",
       "Java/Python - Distributed Data developer                            12\n",
       "Computer Vision Engineer                                             8\n",
       "Associate Product Manager, TiaMD & TiAdmin                           7\n",
       "Jr. Developer                                                        3\n",
       "Front End Developer                                                  3\n",
       "Data Analyst, MDcentRx                                               3\n",
       "Sr. Python Developer                                                 3\n",
       "Junior Data Analyst                                                  2\n",
       "Name: title, dtype: int64"
      ]
     },
     "execution_count": 12,
     "metadata": {},
     "output_type": "execute_result"
    }
   ],
   "source": [
    "df['title'].value_counts()"
   ]
  },
  {
   "cell_type": "code",
   "execution_count": 13,
   "metadata": {},
   "outputs": [
    {
     "data": {
      "text/html": [
       "<div>\n",
       "<style scoped>\n",
       "    .dataframe tbody tr th:only-of-type {\n",
       "        vertical-align: middle;\n",
       "    }\n",
       "\n",
       "    .dataframe tbody tr th {\n",
       "        vertical-align: top;\n",
       "    }\n",
       "\n",
       "    .dataframe thead th {\n",
       "        text-align: right;\n",
       "    }\n",
       "</style>\n",
       "<table border=\"1\" class=\"dataframe\">\n",
       "  <thead>\n",
       "    <tr style=\"text-align: right;\">\n",
       "      <th></th>\n",
       "      <th>Unnamed: 0</th>\n",
       "      <th>title</th>\n",
       "      <th>company</th>\n",
       "      <th>location</th>\n",
       "      <th>minimum salary</th>\n",
       "      <th>rating</th>\n",
       "      <th>urgent hiring</th>\n",
       "      <th>link</th>\n",
       "    </tr>\n",
       "  </thead>\n",
       "  <tbody>\n",
       "    <tr>\n",
       "      <th>424</th>\n",
       "      <td>424</td>\n",
       "      <td>QA Selenium Tester</td>\n",
       "      <td>Cquest</td>\n",
       "      <td>Manhattan, NY</td>\n",
       "      <td>80000.0</td>\n",
       "      <td>NaN</td>\n",
       "      <td>NaN</td>\n",
       "      <td>https://www.indeed.com/viewjob?jk=c9b67d744e13...</td>\n",
       "    </tr>\n",
       "    <tr>\n",
       "      <th>165</th>\n",
       "      <td>165</td>\n",
       "      <td>QA Selenium Tester</td>\n",
       "      <td>Cquest</td>\n",
       "      <td>Manhattan, NY</td>\n",
       "      <td>80000.0</td>\n",
       "      <td>NaN</td>\n",
       "      <td>NaN</td>\n",
       "      <td>https://www.indeed.com/viewjob?jk=c9b67d744e13...</td>\n",
       "    </tr>\n",
       "    <tr>\n",
       "      <th>616</th>\n",
       "      <td>616</td>\n",
       "      <td>QA Selenium Tester</td>\n",
       "      <td>Cquest</td>\n",
       "      <td>Manhattan, NY</td>\n",
       "      <td>80000.0</td>\n",
       "      <td>NaN</td>\n",
       "      <td>NaN</td>\n",
       "      <td>https://www.indeed.com/viewjob?jk=c9b67d744e13...</td>\n",
       "    </tr>\n",
       "    <tr>\n",
       "      <th>516</th>\n",
       "      <td>516</td>\n",
       "      <td>QA Selenium Tester</td>\n",
       "      <td>Cquest</td>\n",
       "      <td>Manhattan, NY</td>\n",
       "      <td>80000.0</td>\n",
       "      <td>NaN</td>\n",
       "      <td>NaN</td>\n",
       "      <td>https://www.indeed.com/viewjob?jk=c9b67d744e13...</td>\n",
       "    </tr>\n",
       "    <tr>\n",
       "      <th>666</th>\n",
       "      <td>666</td>\n",
       "      <td>QA Selenium Tester</td>\n",
       "      <td>Cquest</td>\n",
       "      <td>Manhattan, NY</td>\n",
       "      <td>80000.0</td>\n",
       "      <td>NaN</td>\n",
       "      <td>NaN</td>\n",
       "      <td>https://www.indeed.com/viewjob?jk=c9b67d744e13...</td>\n",
       "    </tr>\n",
       "    <tr>\n",
       "      <th>...</th>\n",
       "      <td>...</td>\n",
       "      <td>...</td>\n",
       "      <td>...</td>\n",
       "      <td>...</td>\n",
       "      <td>...</td>\n",
       "      <td>...</td>\n",
       "      <td>...</td>\n",
       "      <td>...</td>\n",
       "    </tr>\n",
       "    <tr>\n",
       "      <th>98</th>\n",
       "      <td>98</td>\n",
       "      <td>Computer Vision Engineer</td>\n",
       "      <td>RiCOMA International Corporation</td>\n",
       "      <td>New York, NY</td>\n",
       "      <td>160000.0</td>\n",
       "      <td>2.7</td>\n",
       "      <td>NaN</td>\n",
       "      <td>https://www.indeed.com/viewjob?jk=3aed47a58fe8...</td>\n",
       "    </tr>\n",
       "    <tr>\n",
       "      <th>248</th>\n",
       "      <td>248</td>\n",
       "      <td>Computer Vision Engineer</td>\n",
       "      <td>RiCOMA International Corporation</td>\n",
       "      <td>New York, NY</td>\n",
       "      <td>160000.0</td>\n",
       "      <td>2.7</td>\n",
       "      <td>NaN</td>\n",
       "      <td>https://www.indeed.com/viewjob?jk=3aed47a58fe8...</td>\n",
       "    </tr>\n",
       "    <tr>\n",
       "      <th>848</th>\n",
       "      <td>848</td>\n",
       "      <td>Computer Vision Engineer</td>\n",
       "      <td>RiCOMA International Corporation</td>\n",
       "      <td>New York, NY</td>\n",
       "      <td>160000.0</td>\n",
       "      <td>2.7</td>\n",
       "      <td>NaN</td>\n",
       "      <td>https://www.indeed.com/viewjob?jk=3aed47a58fe8...</td>\n",
       "    </tr>\n",
       "    <tr>\n",
       "      <th>898</th>\n",
       "      <td>898</td>\n",
       "      <td>Computer Vision Engineer</td>\n",
       "      <td>RiCOMA International Corporation</td>\n",
       "      <td>New York, NY</td>\n",
       "      <td>160000.0</td>\n",
       "      <td>2.7</td>\n",
       "      <td>NaN</td>\n",
       "      <td>https://www.indeed.com/viewjob?jk=3aed47a58fe8...</td>\n",
       "    </tr>\n",
       "    <tr>\n",
       "      <th>298</th>\n",
       "      <td>298</td>\n",
       "      <td>Computer Vision Engineer</td>\n",
       "      <td>RiCOMA International Corporation</td>\n",
       "      <td>New York, NY</td>\n",
       "      <td>160000.0</td>\n",
       "      <td>2.7</td>\n",
       "      <td>NaN</td>\n",
       "      <td>https://www.indeed.com/viewjob?jk=3aed47a58fe8...</td>\n",
       "    </tr>\n",
       "  </tbody>\n",
       "</table>\n",
       "<p>165 rows × 8 columns</p>\n",
       "</div>"
      ],
      "text/plain": [
       "     Unnamed: 0                     title                           company  \\\n",
       "424         424        QA Selenium Tester                            Cquest   \n",
       "165         165        QA Selenium Tester                            Cquest   \n",
       "616         616        QA Selenium Tester                            Cquest   \n",
       "516         516        QA Selenium Tester                            Cquest   \n",
       "666         666        QA Selenium Tester                            Cquest   \n",
       "..          ...                       ...                               ...   \n",
       "98           98  Computer Vision Engineer  RiCOMA International Corporation   \n",
       "248         248  Computer Vision Engineer  RiCOMA International Corporation   \n",
       "848         848  Computer Vision Engineer  RiCOMA International Corporation   \n",
       "898         898  Computer Vision Engineer  RiCOMA International Corporation   \n",
       "298         298  Computer Vision Engineer  RiCOMA International Corporation   \n",
       "\n",
       "          location  minimum salary  rating  urgent hiring  \\\n",
       "424  Manhattan, NY         80000.0     NaN            NaN   \n",
       "165  Manhattan, NY         80000.0     NaN            NaN   \n",
       "616  Manhattan, NY         80000.0     NaN            NaN   \n",
       "516  Manhattan, NY         80000.0     NaN            NaN   \n",
       "666  Manhattan, NY         80000.0     NaN            NaN   \n",
       "..             ...             ...     ...            ...   \n",
       "98    New York, NY        160000.0     2.7            NaN   \n",
       "248   New York, NY        160000.0     2.7            NaN   \n",
       "848   New York, NY        160000.0     2.7            NaN   \n",
       "898   New York, NY        160000.0     2.7            NaN   \n",
       "298   New York, NY        160000.0     2.7            NaN   \n",
       "\n",
       "                                                  link  \n",
       "424  https://www.indeed.com/viewjob?jk=c9b67d744e13...  \n",
       "165  https://www.indeed.com/viewjob?jk=c9b67d744e13...  \n",
       "616  https://www.indeed.com/viewjob?jk=c9b67d744e13...  \n",
       "516  https://www.indeed.com/viewjob?jk=c9b67d744e13...  \n",
       "666  https://www.indeed.com/viewjob?jk=c9b67d744e13...  \n",
       "..                                                 ...  \n",
       "98   https://www.indeed.com/viewjob?jk=3aed47a58fe8...  \n",
       "248  https://www.indeed.com/viewjob?jk=3aed47a58fe8...  \n",
       "848  https://www.indeed.com/viewjob?jk=3aed47a58fe8...  \n",
       "898  https://www.indeed.com/viewjob?jk=3aed47a58fe8...  \n",
       "298  https://www.indeed.com/viewjob?jk=3aed47a58fe8...  \n",
       "\n",
       "[165 rows x 8 columns]"
      ]
     },
     "execution_count": 13,
     "metadata": {},
     "output_type": "execute_result"
    }
   ],
   "source": [
    "df['minimum salary'] = df['minimum salary'].replace(\"TBD\", 0, regex=True)\n",
    "df['minimum salary'] = df['minimum salary'].astype(float)\n",
    "df_sal = df.loc[df['minimum salary'] > 70000]\n",
    "df_sal.sort_values('minimum salary')"
   ]
  },
  {
   "cell_type": "code",
   "execution_count": 14,
   "metadata": {},
   "outputs": [
    {
     "data": {
      "text/plain": [
       "Text(0.5, 1.0, 'Histrogram of minimum salary')"
      ]
     },
     "execution_count": 14,
     "metadata": {},
     "output_type": "execute_result"
    },
    {
     "data": {
      "image/png": "[encoded data removed]",
      "text/plain": [
       "<Figure size 432x288 with 1 Axes>"
      ]
     },
     "metadata": {},
     "output_type": "display_data"
    }
   ],
   "source": [
    "plt.hist(df['minimum salary'], bins=10, color=\"#615eff\")\n",
    "plt.xlabel('minimum salary')\n",
    "plt.ylabel('count')\n",
    "plt.title(\"Histrogram of minimum salary\", fontsize = 20)"
   ]
  },
  {
   "cell_type": "code",
   "execution_count": 15,
   "metadata": {
    "scrolled": true
   },
   "outputs": [
    {
     "data": {
      "text/plain": [
       "Text(0, 0.5, 'minimum salary')"
      ]
     },
     "execution_count": 15,
     "metadata": {},
     "output_type": "execute_result"
    },
    {
     "data": {
      "image/png": "[encoded data removed]",
      "text/plain": [
       "<Figure size 432x288 with 1 Axes>"
      ]
     },
     "metadata": {},
     "output_type": "display_data"
    }
   ],
   "source": [
    "plt.hist(df['minimum salary'], bins=10, color=\"#615eff\")\n",
    "plt.xlabel(\"rating\")\n",
    "plt.ylabel('minimum salary')"
   ]
  },
  {
   "cell_type": "code",
   "execution_count": 16,
   "metadata": {},
   "outputs": [
    {
     "data": {
      "text/plain": [
       "Text(0, 0.5, 'minimum salary')"
      ]
     },
     "execution_count": 16,
     "metadata": {},
     "output_type": "execute_result"
    },
    {
     "data": {
      "image/png": "[encoded data removed]",
      "text/plain": [
       "<Figure size 432x288 with 1 Axes>"
      ]
     },
     "metadata": {},
     "output_type": "display_data"
    }
   ],
   "source": [
    "plt.hist(df['location'], bins=10, color=\"#615eff\")\n",
    "plt.xlabel(\"location\")\n",
    "plt.ylabel('minimum salary')"
   ]
  },
  {
   "cell_type": "code",
   "execution_count": 17,
   "metadata": {},
   "outputs": [
    {
     "data": {
      "text/plain": [
       "Text(0, 0.5, 'count')"
      ]
     },
     "execution_count": 17,
     "metadata": {},
     "output_type": "execute_result"
    },
    {
     "data": {
      "image/png": "[encoded data removed]",
      "text/plain": [
       "<Figure size 432x288 with 1 Axes>"
      ]
     },
     "metadata": {},
     "output_type": "display_data"
    }
   ],
   "source": [
    "df.plot(kind=\"scatter\", x=\"rating\", y=\"minimum salary\")\n",
    "plt.xlabel(\"rating\")\n",
    "plt.ylabel('count')\n"
   ]
  },
  {
   "cell_type": "code",
   "execution_count": 18,
   "metadata": {},
   "outputs": [
    {
     "data": {
      "text/plain": [
       "<AxesSubplot:xlabel='minimum salary', ylabel='Density'>"
      ]
     },
     "execution_count": 18,
     "metadata": {},
     "output_type": "execute_result"
    },
    {
     "data": {
      "image/png": "[encoded data removed]",
      "text/plain": [
       "<Figure size 432x288 with 1 Axes>"
      ]
     },
     "metadata": {},
     "output_type": "display_data"
    }
   ],
   "source": [
    "sns.kdeplot(df['minimum salary'], shade=True, label=\"Expected salary\")"
   ]
  },
  {
   "cell_type": "code",
   "execution_count": 19,
   "metadata": {},
   "outputs": [
    {
     "name": "stderr",
     "output_type": "stream",
     "text": [
      "C:\\Users\\kkrle\\Anaconda3\\lib\\site-packages\\seaborn\\distributions.py:2551: FutureWarning: `distplot` is a deprecated function and will be removed in a future version. Please adapt your code to use either `displot` (a figure-level function with similar flexibility) or `histplot` (an axes-level function for histograms).\n",
      "  warnings.warn(msg, FutureWarning)\n"
     ]
    },
    {
     "data": {
      "text/plain": [
       "<AxesSubplot:xlabel='minimum salary', ylabel='Density'>"
      ]
     },
     "execution_count": 19,
     "metadata": {},
     "output_type": "execute_result"
    },
    {
     "data": {
      "image/png": "[encoded data removed]",
      "text/plain": [
       "<Figure size 432x288 with 1 Axes>"
      ]
     },
     "metadata": {},
     "output_type": "display_data"
    }
   ],
   "source": [
    "sns.distplot(df['minimum salary'])"
   ]
  },
  {
   "cell_type": "code",
   "execution_count": 20,
   "metadata": {},
   "outputs": [
    {
     "data": {
      "text/html": [
       "<div>\n",
       "<style scoped>\n",
       "    .dataframe tbody tr th:only-of-type {\n",
       "        vertical-align: middle;\n",
       "    }\n",
       "\n",
       "    .dataframe tbody tr th {\n",
       "        vertical-align: top;\n",
       "    }\n",
       "\n",
       "    .dataframe thead th {\n",
       "        text-align: right;\n",
       "    }\n",
       "</style>\n",
       "<table border=\"1\" class=\"dataframe\">\n",
       "  <thead>\n",
       "    <tr style=\"text-align: right;\">\n",
       "      <th></th>\n",
       "      <th>total_bill</th>\n",
       "      <th>tip</th>\n",
       "      <th>sex</th>\n",
       "      <th>smoker</th>\n",
       "      <th>day</th>\n",
       "      <th>time</th>\n",
       "      <th>size</th>\n",
       "    </tr>\n",
       "  </thead>\n",
       "  <tbody>\n",
       "    <tr>\n",
       "      <th>0</th>\n",
       "      <td>16.99</td>\n",
       "      <td>1.01</td>\n",
       "      <td>Female</td>\n",
       "      <td>No</td>\n",
       "      <td>Sun</td>\n",
       "      <td>Dinner</td>\n",
       "      <td>2</td>\n",
       "    </tr>\n",
       "    <tr>\n",
       "      <th>1</th>\n",
       "      <td>10.34</td>\n",
       "      <td>1.66</td>\n",
       "      <td>Male</td>\n",
       "      <td>No</td>\n",
       "      <td>Sun</td>\n",
       "      <td>Dinner</td>\n",
       "      <td>3</td>\n",
       "    </tr>\n",
       "    <tr>\n",
       "      <th>2</th>\n",
       "      <td>21.01</td>\n",
       "      <td>3.50</td>\n",
       "      <td>Male</td>\n",
       "      <td>No</td>\n",
       "      <td>Sun</td>\n",
       "      <td>Dinner</td>\n",
       "      <td>3</td>\n",
       "    </tr>\n",
       "    <tr>\n",
       "      <th>3</th>\n",
       "      <td>23.68</td>\n",
       "      <td>3.31</td>\n",
       "      <td>Male</td>\n",
       "      <td>No</td>\n",
       "      <td>Sun</td>\n",
       "      <td>Dinner</td>\n",
       "      <td>2</td>\n",
       "    </tr>\n",
       "    <tr>\n",
       "      <th>4</th>\n",
       "      <td>24.59</td>\n",
       "      <td>3.61</td>\n",
       "      <td>Female</td>\n",
       "      <td>No</td>\n",
       "      <td>Sun</td>\n",
       "      <td>Dinner</td>\n",
       "      <td>4</td>\n",
       "    </tr>\n",
       "  </tbody>\n",
       "</table>\n",
       "</div>"
      ],
      "text/plain": [
       "   total_bill   tip     sex smoker  day    time  size\n",
       "0       16.99  1.01  Female     No  Sun  Dinner     2\n",
       "1       10.34  1.66    Male     No  Sun  Dinner     3\n",
       "2       21.01  3.50    Male     No  Sun  Dinner     3\n",
       "3       23.68  3.31    Male     No  Sun  Dinner     2\n",
       "4       24.59  3.61  Female     No  Sun  Dinner     4"
      ]
     },
     "execution_count": 20,
     "metadata": {},
     "output_type": "execute_result"
    }
   ],
   "source": [
    "tips = sns.load_dataset(\"tips\")\n",
    "tips.head()"
   ]
  },
  {
   "cell_type": "code",
   "execution_count": 21,
   "metadata": {},
   "outputs": [
    {
     "name": "stderr",
     "output_type": "stream",
     "text": [
      "C:\\Users\\kkrle\\Anaconda3\\lib\\site-packages\\seaborn\\_decorators.py:36: FutureWarning: Pass the following variables as keyword args: x, y, data. From version 0.12, the only valid positional argument will be `data`, and passing other arguments without an explicit keyword will result in an error or misinterpretation.\n",
      "  warnings.warn(\n"
     ]
    },
    {
     "data": {
      "text/plain": [
       "<seaborn.axisgrid.FacetGrid at 0x19553b99d60>"
      ]
     },
     "execution_count": 21,
     "metadata": {},
     "output_type": "execute_result"
    },
    {
     "data": {
      "image/png": "[encoded data removed]",
      "text/plain": [
       "<Figure size 360x360 with 1 Axes>"
      ]
     },
     "metadata": {},
     "output_type": "display_data"
    }
   ],
   "source": [
    "sns.lmplot(\"total_bill\", \"tip\", tips)"
   ]
  }
 ],
 "metadata": {
  "kernelspec": {
   "display_name": "Python 3",
   "language": "python",
   "name": "python3"
  },
  "language_info": {
   "codemirror_mode": {
    "name": "ipython",
    "version": 3
   },
   "file_extension": ".py",
   "mimetype": "text/x-python",
   "name": "python",
   "nbconvert_exporter": "python",
   "pygments_lexer": "ipython3",
   "version": "3.8.5"
  },
  "latex_envs": {
   "LaTeX_envs_menu_present": true,
   "autoclose": false,
   "autocomplete": true,
   "bibliofile": "biblio.bib",
   "cite_by": "apalike",
   "current_citInitial": 1,
   "eqLabelWithNumbers": true,
   "eqNumInitial": 1,
   "hotkeys": {
    "equation": "Ctrl-E",
    "itemize": "Ctrl-I"
   },
   "labels_anchors": false,
   "latex_user_defs": false,
   "report_style_numbering": false,
   "user_envs_cfg": false
  },
  "toc": {
   "base_numbering": 1,
   "nav_menu": {},
   "number_sections": true,
   "sideBar": true,
   "skip_h1_title": false,
   "title_cell": "Table of Contents",
   "title_sidebar": "Contents",
   "toc_cell": false,
   "toc_position": {},
   "toc_section_display": true,
   "toc_window_display": false
  },
  "varInspector": {
   "cols": {
    "lenName": 16,
    "lenType": 16,
    "lenVar": 40
   },
   "kernels_config": {
    "python": {
     "delete_cmd_postfix": "",
     "delete_cmd_prefix": "del ",
     "library": "var_list.py",
     "varRefreshCmd": "print(var_dic_list())"
    },
    "r": {
     "delete_cmd_postfix": ") ",
     "delete_cmd_prefix": "rm(",
     "library": "var_list.r",
     "varRefreshCmd": "cat(var_dic_list()) "
    }
   },
   "types_to_exclude": [
    "module",
    "function",
    "builtin_function_or_method",
    "instance",
    "_Feature"
   ],
   "window_display": false
  }
 },
 "nbformat": 4,
 "nbformat_minor": 4
}
